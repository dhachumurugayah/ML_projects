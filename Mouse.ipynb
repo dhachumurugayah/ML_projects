{
 "cells": [
  {
   "cell_type": "markdown",
   "metadata": {},
   "source": [
    "# Machine Learning Project-Mouse with Down Syndrome \n",
    "\n",
    "## Dhachainee Murugayah (S3794334) \n",
    "***"
   ]
  },
  {
   "cell_type": "markdown",
   "metadata": {},
   "source": [
    "## Table of the content \n",
    "- [Goal and Objectives](#aa)\n",
    "- [Task 1: Retrieving and Preparing the Data](#a)\n",
    " - [Missing Values](#a1)\n",
    " - [Redundant Features](#a2)\n",
    "- [Task 2.1: Explore each column](#b)\n",
    "- [Task 2.2: Explore the relationship between pairs of attributes](#c)\n",
    "- [Task 3: Data Modelling](#d)\n",
    " - [Methodologys](#d1)\n",
    " - [Feature selection](#d2)\n",
    " - [Feature scaling](#d3)\n",
    "  - [Target encoding](#d33)\n",
    " - [Classification Algorithm ](#d4)\n",
    "  - [KNN](#d41)\n",
    "   - [KNN  tuning ](#d411)\n",
    "  - [Decision Tree](#d42)\n",
    "   - [Decision Tree tuning](#d422)\n",
    " - [Performance comparison](#d5)\n",
    "- [Limitations and Solutions](#e)\n",
    "- [Summary and Conclusion](#f)"
   ]
  },
  {
   "cell_type": "markdown",
   "metadata": {},
   "source": [
    "# Goal and Objectives <a name=\"aa\"></a>\n",
    "## Goal\n",
    "The goal is to analyze the influence of proteins that impact the recuperating ability of the Down Syndrome mice to learn by conducting a comparative exploration on two different classification models. \n",
    "\n",
    "## Objectives\n",
    "- To perform data analysis to acquire fascinating insights from the dataset\n",
    "- To build a classification model which will be able to determine protein in the mouse of Down Syndrome effectively with high accuracy. \n",
    "- To identify relevant features with the help of feature selection techniques in order to minimize dimensionality "
   ]
  },
  {
   "cell_type": "markdown",
   "metadata": {},
   "source": [
    "# Task 1: Retrieving and Preparing the Data <a name=\"a\"></a>\n"
   ]
  },
  {
   "cell_type": "markdown",
   "metadata": {},
   "source": [
    "The dataset is obtained from <a href=\"https://archive.ics.uci.edu/ml/datasets/Mice+Protein+Expression\">UCI Machine Learning Repository</a>. It has 77 expression levels of protein or modified proteins that acquired through the signals that detected in the nuclear fraction of cortex. There are 72 mice where 38 of the mice are control mice and the rest 34 are trisomic (Down syndrome) mice. 15 measurements have taken for each protein and the mouse resulting 1080 measurements in total per protein.Hence this dataset has 1080 rows and 82 columns. A few mice have been infused with drug and other have not to evaluate the impact of the memantine drug in recuperating the ability to learning in mice with Down syndrome. "
   ]
  },
  {
   "cell_type": "markdown",
   "metadata": {},
   "source": [
    "The dataset is directly read and imported from the file stored in jupyter."
   ]
  },
  {
   "cell_type": "code",
   "execution_count": 1,
   "metadata": {},
   "outputs": [],
   "source": [
    "# Set a seed value\n",
    "seed_value = 999 \n",
    "# 1. Initialise `PYTHONHASHSEED` environment variable\n",
    "import os\n",
    "os.environ['PYTHONHASHSEED']=str(seed_value)\n",
    "# 2. Initialise Python's own pseudo-random generator\n",
    "import random\n",
    "random.seed(seed_value)\n",
    "# 3. Initialise Numpy's pseudo-random generator\n",
    "import numpy as np\n",
    "np.random.seed(seed_value)"
   ]
  },
  {
   "cell_type": "code",
   "execution_count": 2,
   "metadata": {},
   "outputs": [
    {
     "data": {
      "text/html": [
       "<div>\n",
       "<style scoped>\n",
       "    .dataframe tbody tr th:only-of-type {\n",
       "        vertical-align: middle;\n",
       "    }\n",
       "\n",
       "    .dataframe tbody tr th {\n",
       "        vertical-align: top;\n",
       "    }\n",
       "\n",
       "    .dataframe thead th {\n",
       "        text-align: right;\n",
       "    }\n",
       "</style>\n",
       "<table border=\"1\" class=\"dataframe\">\n",
       "  <thead>\n",
       "    <tr style=\"text-align: right;\">\n",
       "      <th></th>\n",
       "      <th>MouseID</th>\n",
       "      <th>DYRK1A_N</th>\n",
       "      <th>ITSN1_N</th>\n",
       "      <th>BDNF_N</th>\n",
       "      <th>NR1_N</th>\n",
       "      <th>NR2A_N</th>\n",
       "      <th>pAKT_N</th>\n",
       "      <th>pBRAF_N</th>\n",
       "      <th>pCAMKII_N</th>\n",
       "      <th>pCREB_N</th>\n",
       "      <th>...</th>\n",
       "      <th>pCFOS_N</th>\n",
       "      <th>SYP_N</th>\n",
       "      <th>H3AcK18_N</th>\n",
       "      <th>EGR1_N</th>\n",
       "      <th>H3MeK4_N</th>\n",
       "      <th>CaNA_N</th>\n",
       "      <th>Genotype</th>\n",
       "      <th>Treatment</th>\n",
       "      <th>Behavior</th>\n",
       "      <th>class</th>\n",
       "    </tr>\n",
       "  </thead>\n",
       "  <tbody>\n",
       "    <tr>\n",
       "      <th>0</th>\n",
       "      <td>309_1</td>\n",
       "      <td>0.503644</td>\n",
       "      <td>0.747193</td>\n",
       "      <td>0.430175</td>\n",
       "      <td>2.816329</td>\n",
       "      <td>5.990152</td>\n",
       "      <td>0.218830</td>\n",
       "      <td>0.177565</td>\n",
       "      <td>2.373744</td>\n",
       "      <td>0.232224</td>\n",
       "      <td>...</td>\n",
       "      <td>0.108336</td>\n",
       "      <td>0.427099</td>\n",
       "      <td>0.114783</td>\n",
       "      <td>0.131790</td>\n",
       "      <td>0.128186</td>\n",
       "      <td>1.675652</td>\n",
       "      <td>Control</td>\n",
       "      <td>Memantine</td>\n",
       "      <td>C/S</td>\n",
       "      <td>c-CS-m</td>\n",
       "    </tr>\n",
       "    <tr>\n",
       "      <th>1</th>\n",
       "      <td>309_2</td>\n",
       "      <td>0.514617</td>\n",
       "      <td>0.689064</td>\n",
       "      <td>0.411770</td>\n",
       "      <td>2.789514</td>\n",
       "      <td>5.685038</td>\n",
       "      <td>0.211636</td>\n",
       "      <td>0.172817</td>\n",
       "      <td>2.292150</td>\n",
       "      <td>0.226972</td>\n",
       "      <td>...</td>\n",
       "      <td>0.104315</td>\n",
       "      <td>0.441581</td>\n",
       "      <td>0.111974</td>\n",
       "      <td>0.135103</td>\n",
       "      <td>0.131119</td>\n",
       "      <td>1.743610</td>\n",
       "      <td>Control</td>\n",
       "      <td>Memantine</td>\n",
       "      <td>C/S</td>\n",
       "      <td>c-CS-m</td>\n",
       "    </tr>\n",
       "    <tr>\n",
       "      <th>2</th>\n",
       "      <td>309_3</td>\n",
       "      <td>0.509183</td>\n",
       "      <td>0.730247</td>\n",
       "      <td>0.418309</td>\n",
       "      <td>2.687201</td>\n",
       "      <td>5.622059</td>\n",
       "      <td>0.209011</td>\n",
       "      <td>0.175722</td>\n",
       "      <td>2.283337</td>\n",
       "      <td>0.230247</td>\n",
       "      <td>...</td>\n",
       "      <td>0.106219</td>\n",
       "      <td>0.435777</td>\n",
       "      <td>0.111883</td>\n",
       "      <td>0.133362</td>\n",
       "      <td>0.127431</td>\n",
       "      <td>1.926427</td>\n",
       "      <td>Control</td>\n",
       "      <td>Memantine</td>\n",
       "      <td>C/S</td>\n",
       "      <td>c-CS-m</td>\n",
       "    </tr>\n",
       "    <tr>\n",
       "      <th>3</th>\n",
       "      <td>309_4</td>\n",
       "      <td>0.442107</td>\n",
       "      <td>0.617076</td>\n",
       "      <td>0.358626</td>\n",
       "      <td>2.466947</td>\n",
       "      <td>4.979503</td>\n",
       "      <td>0.222886</td>\n",
       "      <td>0.176463</td>\n",
       "      <td>2.152301</td>\n",
       "      <td>0.207004</td>\n",
       "      <td>...</td>\n",
       "      <td>0.111262</td>\n",
       "      <td>0.391691</td>\n",
       "      <td>0.130405</td>\n",
       "      <td>0.147444</td>\n",
       "      <td>0.146901</td>\n",
       "      <td>1.700563</td>\n",
       "      <td>Control</td>\n",
       "      <td>Memantine</td>\n",
       "      <td>C/S</td>\n",
       "      <td>c-CS-m</td>\n",
       "    </tr>\n",
       "    <tr>\n",
       "      <th>4</th>\n",
       "      <td>309_5</td>\n",
       "      <td>0.434940</td>\n",
       "      <td>0.617430</td>\n",
       "      <td>0.358802</td>\n",
       "      <td>2.365785</td>\n",
       "      <td>4.718679</td>\n",
       "      <td>0.213106</td>\n",
       "      <td>0.173627</td>\n",
       "      <td>2.134014</td>\n",
       "      <td>0.192158</td>\n",
       "      <td>...</td>\n",
       "      <td>0.110694</td>\n",
       "      <td>0.434154</td>\n",
       "      <td>0.118481</td>\n",
       "      <td>0.140314</td>\n",
       "      <td>0.148380</td>\n",
       "      <td>1.839730</td>\n",
       "      <td>Control</td>\n",
       "      <td>Memantine</td>\n",
       "      <td>C/S</td>\n",
       "      <td>c-CS-m</td>\n",
       "    </tr>\n",
       "  </tbody>\n",
       "</table>\n",
       "<p>5 rows × 82 columns</p>\n",
       "</div>"
      ],
      "text/plain": [
       "  MouseID  DYRK1A_N   ITSN1_N    BDNF_N     NR1_N    NR2A_N    pAKT_N  \\\n",
       "0   309_1  0.503644  0.747193  0.430175  2.816329  5.990152  0.218830   \n",
       "1   309_2  0.514617  0.689064  0.411770  2.789514  5.685038  0.211636   \n",
       "2   309_3  0.509183  0.730247  0.418309  2.687201  5.622059  0.209011   \n",
       "3   309_4  0.442107  0.617076  0.358626  2.466947  4.979503  0.222886   \n",
       "4   309_5  0.434940  0.617430  0.358802  2.365785  4.718679  0.213106   \n",
       "\n",
       "    pBRAF_N  pCAMKII_N   pCREB_N  ...   pCFOS_N     SYP_N  H3AcK18_N  \\\n",
       "0  0.177565   2.373744  0.232224  ...  0.108336  0.427099   0.114783   \n",
       "1  0.172817   2.292150  0.226972  ...  0.104315  0.441581   0.111974   \n",
       "2  0.175722   2.283337  0.230247  ...  0.106219  0.435777   0.111883   \n",
       "3  0.176463   2.152301  0.207004  ...  0.111262  0.391691   0.130405   \n",
       "4  0.173627   2.134014  0.192158  ...  0.110694  0.434154   0.118481   \n",
       "\n",
       "     EGR1_N  H3MeK4_N    CaNA_N  Genotype  Treatment  Behavior   class  \n",
       "0  0.131790  0.128186  1.675652   Control  Memantine       C/S  c-CS-m  \n",
       "1  0.135103  0.131119  1.743610   Control  Memantine       C/S  c-CS-m  \n",
       "2  0.133362  0.127431  1.926427   Control  Memantine       C/S  c-CS-m  \n",
       "3  0.147444  0.146901  1.700563   Control  Memantine       C/S  c-CS-m  \n",
       "4  0.140314  0.148380  1.839730   Control  Memantine       C/S  c-CS-m  \n",
       "\n",
       "[5 rows x 82 columns]"
      ]
     },
     "execution_count": 2,
     "metadata": {},
     "output_type": "execute_result"
    }
   ],
   "source": [
    "import pandas as pd \n",
    "import numpy as np\n",
    "import matplotlib.pyplot as plt\n",
    "import seaborn as sns\n",
    "from sklearn.model_selection import cross_validate\n",
    "from sklearn.model_selection import train_test_split\n",
    "from sklearn.tree import DecisionTreeRegressor\n",
    "import warnings\n",
    "warnings.filterwarnings('ignore')\n",
    "\n",
    "#importing/reading the data \n",
    "df = pd.read_csv('Data_Cortex_Nuclear.csv', sep = ',')\n",
    "\n",
    "# View the dataset\n",
    "df.head()"
   ]
  },
  {
   "cell_type": "markdown",
   "metadata": {},
   "source": [
    "The shape of the dataset is checked to make sure the data has been downloaded properly. Also, the features type is checked to have a better understanding about the structure and format about the dataset. "
   ]
  },
  {
   "cell_type": "code",
   "execution_count": 3,
   "metadata": {},
   "outputs": [
    {
     "data": {
      "text/plain": [
       "(1080, 82)"
      ]
     },
     "execution_count": 3,
     "metadata": {},
     "output_type": "execute_result"
    }
   ],
   "source": [
    "#checking the shape of the dataset\n",
    "df.shape"
   ]
  },
  {
   "cell_type": "code",
   "execution_count": 4,
   "metadata": {},
   "outputs": [
    {
     "data": {
      "text/plain": [
       "MouseID       object\n",
       "DYRK1A_N     float64\n",
       "ITSN1_N      float64\n",
       "BDNF_N       float64\n",
       "NR1_N        float64\n",
       "              ...   \n",
       "CaNA_N       float64\n",
       "Genotype      object\n",
       "Treatment     object\n",
       "Behavior      object\n",
       "class         object\n",
       "Length: 82, dtype: object"
      ]
     },
     "execution_count": 4,
     "metadata": {},
     "output_type": "execute_result"
    }
   ],
   "source": [
    "#checking the type of the attributes\n",
    "df.dtypes"
   ]
  },
  {
   "cell_type": "code",
   "execution_count": 5,
   "metadata": {},
   "outputs": [
    {
     "data": {
      "text/html": [
       "<div>\n",
       "<style scoped>\n",
       "    .dataframe tbody tr th:only-of-type {\n",
       "        vertical-align: middle;\n",
       "    }\n",
       "\n",
       "    .dataframe tbody tr th {\n",
       "        vertical-align: top;\n",
       "    }\n",
       "\n",
       "    .dataframe thead th {\n",
       "        text-align: right;\n",
       "    }\n",
       "</style>\n",
       "<table border=\"1\" class=\"dataframe\">\n",
       "  <thead>\n",
       "    <tr style=\"text-align: right;\">\n",
       "      <th></th>\n",
       "      <th>DYRK1A_N</th>\n",
       "      <th>ITSN1_N</th>\n",
       "      <th>BDNF_N</th>\n",
       "      <th>NR1_N</th>\n",
       "      <th>NR2A_N</th>\n",
       "      <th>pAKT_N</th>\n",
       "      <th>pBRAF_N</th>\n",
       "      <th>pCAMKII_N</th>\n",
       "      <th>pCREB_N</th>\n",
       "      <th>pELK_N</th>\n",
       "      <th>...</th>\n",
       "      <th>SHH_N</th>\n",
       "      <th>BAD_N</th>\n",
       "      <th>BCL2_N</th>\n",
       "      <th>pS6_N</th>\n",
       "      <th>pCFOS_N</th>\n",
       "      <th>SYP_N</th>\n",
       "      <th>H3AcK18_N</th>\n",
       "      <th>EGR1_N</th>\n",
       "      <th>H3MeK4_N</th>\n",
       "      <th>CaNA_N</th>\n",
       "    </tr>\n",
       "  </thead>\n",
       "  <tbody>\n",
       "    <tr>\n",
       "      <th>count</th>\n",
       "      <td>1077.000000</td>\n",
       "      <td>1077.000000</td>\n",
       "      <td>1077.000000</td>\n",
       "      <td>1077.000000</td>\n",
       "      <td>1077.000000</td>\n",
       "      <td>1077.000000</td>\n",
       "      <td>1077.000000</td>\n",
       "      <td>1077.000000</td>\n",
       "      <td>1077.000000</td>\n",
       "      <td>1077.000000</td>\n",
       "      <td>...</td>\n",
       "      <td>1080.000000</td>\n",
       "      <td>867.000000</td>\n",
       "      <td>795.000000</td>\n",
       "      <td>1080.000000</td>\n",
       "      <td>1005.000000</td>\n",
       "      <td>1080.000000</td>\n",
       "      <td>900.000000</td>\n",
       "      <td>870.000000</td>\n",
       "      <td>810.000000</td>\n",
       "      <td>1080.000000</td>\n",
       "    </tr>\n",
       "    <tr>\n",
       "      <th>mean</th>\n",
       "      <td>0.425810</td>\n",
       "      <td>0.617102</td>\n",
       "      <td>0.319088</td>\n",
       "      <td>2.297269</td>\n",
       "      <td>3.843934</td>\n",
       "      <td>0.233168</td>\n",
       "      <td>0.181846</td>\n",
       "      <td>3.537109</td>\n",
       "      <td>0.212574</td>\n",
       "      <td>1.428682</td>\n",
       "      <td>...</td>\n",
       "      <td>0.226676</td>\n",
       "      <td>0.157914</td>\n",
       "      <td>0.134762</td>\n",
       "      <td>0.121521</td>\n",
       "      <td>0.131053</td>\n",
       "      <td>0.446073</td>\n",
       "      <td>0.169609</td>\n",
       "      <td>0.183135</td>\n",
       "      <td>0.205440</td>\n",
       "      <td>1.337784</td>\n",
       "    </tr>\n",
       "    <tr>\n",
       "      <th>std</th>\n",
       "      <td>0.249362</td>\n",
       "      <td>0.251640</td>\n",
       "      <td>0.049383</td>\n",
       "      <td>0.347293</td>\n",
       "      <td>0.933100</td>\n",
       "      <td>0.041634</td>\n",
       "      <td>0.027042</td>\n",
       "      <td>1.295169</td>\n",
       "      <td>0.032587</td>\n",
       "      <td>0.466904</td>\n",
       "      <td>...</td>\n",
       "      <td>0.028989</td>\n",
       "      <td>0.029537</td>\n",
       "      <td>0.027417</td>\n",
       "      <td>0.014276</td>\n",
       "      <td>0.023863</td>\n",
       "      <td>0.066432</td>\n",
       "      <td>0.059402</td>\n",
       "      <td>0.040406</td>\n",
       "      <td>0.055514</td>\n",
       "      <td>0.317126</td>\n",
       "    </tr>\n",
       "    <tr>\n",
       "      <th>min</th>\n",
       "      <td>0.145327</td>\n",
       "      <td>0.245359</td>\n",
       "      <td>0.115181</td>\n",
       "      <td>1.330831</td>\n",
       "      <td>1.737540</td>\n",
       "      <td>0.063236</td>\n",
       "      <td>0.064043</td>\n",
       "      <td>1.343998</td>\n",
       "      <td>0.112812</td>\n",
       "      <td>0.429032</td>\n",
       "      <td>...</td>\n",
       "      <td>0.155869</td>\n",
       "      <td>0.088305</td>\n",
       "      <td>0.080657</td>\n",
       "      <td>0.067254</td>\n",
       "      <td>0.085419</td>\n",
       "      <td>0.258626</td>\n",
       "      <td>0.079691</td>\n",
       "      <td>0.105537</td>\n",
       "      <td>0.101787</td>\n",
       "      <td>0.586479</td>\n",
       "    </tr>\n",
       "    <tr>\n",
       "      <th>25%</th>\n",
       "      <td>0.288121</td>\n",
       "      <td>0.473361</td>\n",
       "      <td>0.287444</td>\n",
       "      <td>2.057411</td>\n",
       "      <td>3.155678</td>\n",
       "      <td>0.205755</td>\n",
       "      <td>0.164595</td>\n",
       "      <td>2.479834</td>\n",
       "      <td>0.190823</td>\n",
       "      <td>1.203665</td>\n",
       "      <td>...</td>\n",
       "      <td>0.206395</td>\n",
       "      <td>0.136424</td>\n",
       "      <td>0.115554</td>\n",
       "      <td>0.110839</td>\n",
       "      <td>0.113506</td>\n",
       "      <td>0.398082</td>\n",
       "      <td>0.125848</td>\n",
       "      <td>0.155121</td>\n",
       "      <td>0.165143</td>\n",
       "      <td>1.081423</td>\n",
       "    </tr>\n",
       "    <tr>\n",
       "      <th>50%</th>\n",
       "      <td>0.366378</td>\n",
       "      <td>0.565782</td>\n",
       "      <td>0.316564</td>\n",
       "      <td>2.296546</td>\n",
       "      <td>3.760855</td>\n",
       "      <td>0.231177</td>\n",
       "      <td>0.182302</td>\n",
       "      <td>3.326520</td>\n",
       "      <td>0.210594</td>\n",
       "      <td>1.355846</td>\n",
       "      <td>...</td>\n",
       "      <td>0.224000</td>\n",
       "      <td>0.152313</td>\n",
       "      <td>0.129468</td>\n",
       "      <td>0.121626</td>\n",
       "      <td>0.126523</td>\n",
       "      <td>0.448459</td>\n",
       "      <td>0.158240</td>\n",
       "      <td>0.174935</td>\n",
       "      <td>0.193994</td>\n",
       "      <td>1.317441</td>\n",
       "    </tr>\n",
       "    <tr>\n",
       "      <th>75%</th>\n",
       "      <td>0.487711</td>\n",
       "      <td>0.698032</td>\n",
       "      <td>0.348197</td>\n",
       "      <td>2.528481</td>\n",
       "      <td>4.440011</td>\n",
       "      <td>0.257261</td>\n",
       "      <td>0.197418</td>\n",
       "      <td>4.481940</td>\n",
       "      <td>0.234595</td>\n",
       "      <td>1.561316</td>\n",
       "      <td>...</td>\n",
       "      <td>0.241655</td>\n",
       "      <td>0.174017</td>\n",
       "      <td>0.148235</td>\n",
       "      <td>0.131955</td>\n",
       "      <td>0.143652</td>\n",
       "      <td>0.490773</td>\n",
       "      <td>0.197876</td>\n",
       "      <td>0.204542</td>\n",
       "      <td>0.235215</td>\n",
       "      <td>1.585824</td>\n",
       "    </tr>\n",
       "    <tr>\n",
       "      <th>max</th>\n",
       "      <td>2.516367</td>\n",
       "      <td>2.602662</td>\n",
       "      <td>0.497160</td>\n",
       "      <td>3.757641</td>\n",
       "      <td>8.482553</td>\n",
       "      <td>0.539050</td>\n",
       "      <td>0.317066</td>\n",
       "      <td>7.464070</td>\n",
       "      <td>0.306247</td>\n",
       "      <td>6.113347</td>\n",
       "      <td>...</td>\n",
       "      <td>0.358289</td>\n",
       "      <td>0.282016</td>\n",
       "      <td>0.261506</td>\n",
       "      <td>0.158748</td>\n",
       "      <td>0.256529</td>\n",
       "      <td>0.759588</td>\n",
       "      <td>0.479763</td>\n",
       "      <td>0.360692</td>\n",
       "      <td>0.413903</td>\n",
       "      <td>2.129791</td>\n",
       "    </tr>\n",
       "  </tbody>\n",
       "</table>\n",
       "<p>8 rows × 77 columns</p>\n",
       "</div>"
      ],
      "text/plain": [
       "          DYRK1A_N      ITSN1_N       BDNF_N        NR1_N       NR2A_N  \\\n",
       "count  1077.000000  1077.000000  1077.000000  1077.000000  1077.000000   \n",
       "mean      0.425810     0.617102     0.319088     2.297269     3.843934   \n",
       "std       0.249362     0.251640     0.049383     0.347293     0.933100   \n",
       "min       0.145327     0.245359     0.115181     1.330831     1.737540   \n",
       "25%       0.288121     0.473361     0.287444     2.057411     3.155678   \n",
       "50%       0.366378     0.565782     0.316564     2.296546     3.760855   \n",
       "75%       0.487711     0.698032     0.348197     2.528481     4.440011   \n",
       "max       2.516367     2.602662     0.497160     3.757641     8.482553   \n",
       "\n",
       "            pAKT_N      pBRAF_N    pCAMKII_N      pCREB_N       pELK_N  ...  \\\n",
       "count  1077.000000  1077.000000  1077.000000  1077.000000  1077.000000  ...   \n",
       "mean      0.233168     0.181846     3.537109     0.212574     1.428682  ...   \n",
       "std       0.041634     0.027042     1.295169     0.032587     0.466904  ...   \n",
       "min       0.063236     0.064043     1.343998     0.112812     0.429032  ...   \n",
       "25%       0.205755     0.164595     2.479834     0.190823     1.203665  ...   \n",
       "50%       0.231177     0.182302     3.326520     0.210594     1.355846  ...   \n",
       "75%       0.257261     0.197418     4.481940     0.234595     1.561316  ...   \n",
       "max       0.539050     0.317066     7.464070     0.306247     6.113347  ...   \n",
       "\n",
       "             SHH_N       BAD_N      BCL2_N        pS6_N      pCFOS_N  \\\n",
       "count  1080.000000  867.000000  795.000000  1080.000000  1005.000000   \n",
       "mean      0.226676    0.157914    0.134762     0.121521     0.131053   \n",
       "std       0.028989    0.029537    0.027417     0.014276     0.023863   \n",
       "min       0.155869    0.088305    0.080657     0.067254     0.085419   \n",
       "25%       0.206395    0.136424    0.115554     0.110839     0.113506   \n",
       "50%       0.224000    0.152313    0.129468     0.121626     0.126523   \n",
       "75%       0.241655    0.174017    0.148235     0.131955     0.143652   \n",
       "max       0.358289    0.282016    0.261506     0.158748     0.256529   \n",
       "\n",
       "             SYP_N   H3AcK18_N      EGR1_N    H3MeK4_N       CaNA_N  \n",
       "count  1080.000000  900.000000  870.000000  810.000000  1080.000000  \n",
       "mean      0.446073    0.169609    0.183135    0.205440     1.337784  \n",
       "std       0.066432    0.059402    0.040406    0.055514     0.317126  \n",
       "min       0.258626    0.079691    0.105537    0.101787     0.586479  \n",
       "25%       0.398082    0.125848    0.155121    0.165143     1.081423  \n",
       "50%       0.448459    0.158240    0.174935    0.193994     1.317441  \n",
       "75%       0.490773    0.197876    0.204542    0.235215     1.585824  \n",
       "max       0.759588    0.479763    0.360692    0.413903     2.129791  \n",
       "\n",
       "[8 rows x 77 columns]"
      ]
     },
     "execution_count": 5,
     "metadata": {},
     "output_type": "execute_result"
    }
   ],
   "source": [
    "df.describe()"
   ]
  },
  {
   "cell_type": "markdown",
   "metadata": {},
   "source": [
    "*MouseID* column will be dropped from the table as it is generated only for unique identification purposes."
   ]
  },
  {
   "cell_type": "code",
   "execution_count": 6,
   "metadata": {},
   "outputs": [],
   "source": [
    "# drop MouseID\n",
    "df=df.drop(['MouseID'], axis=1)"
   ]
  },
  {
   "cell_type": "markdown",
   "metadata": {},
   "source": [
    "## Missing Values <a name=\"a1\"></a>"
   ]
  },
  {
   "cell_type": "markdown",
   "metadata": {},
   "source": [
    "Calculating number of the missing values in each columns"
   ]
  },
  {
   "cell_type": "code",
   "execution_count": 7,
   "metadata": {},
   "outputs": [
    {
     "data": {
      "text/plain": [
       "DYRK1A_N     3\n",
       "ITSN1_N      3\n",
       "BDNF_N       3\n",
       "NR1_N        3\n",
       "NR2A_N       3\n",
       "            ..\n",
       "CaNA_N       0\n",
       "Genotype     0\n",
       "Treatment    0\n",
       "Behavior     0\n",
       "class        0\n",
       "Length: 81, dtype: int64"
      ]
     },
     "execution_count": 7,
     "metadata": {},
     "output_type": "execute_result"
    }
   ],
   "source": [
    "df.isnull().sum()"
   ]
  },
  {
   "cell_type": "markdown",
   "metadata": {},
   "source": [
    "There are 82 columns in this dataset. Rows with more or equal to 75 null values will be dropped as dataset with few columns won't be sufficient to perform the analysis.The rest of the null values will be replaced with mean. "
   ]
  },
  {
   "cell_type": "code",
   "execution_count": 8,
   "metadata": {},
   "outputs": [],
   "source": [
    "#Dropping the null values\n",
    "df = df.dropna(how='any', thresh=75)\n",
    "\n",
    "#Replacing the null values with mean\n",
    "df = df.fillna(df.mean())"
   ]
  },
  {
   "cell_type": "code",
   "execution_count": 9,
   "metadata": {},
   "outputs": [
    {
     "data": {
      "text/plain": [
       "DYRK1A_N     0\n",
       "ITSN1_N      0\n",
       "BDNF_N       0\n",
       "NR1_N        0\n",
       "NR2A_N       0\n",
       "            ..\n",
       "CaNA_N       0\n",
       "Genotype     0\n",
       "Treatment    0\n",
       "Behavior     0\n",
       "class        0\n",
       "Length: 81, dtype: int64"
      ]
     },
     "execution_count": 9,
     "metadata": {},
     "output_type": "execute_result"
    }
   ],
   "source": [
    "#checking the null values after filling and dropping\n",
    "df.isnull().sum()"
   ]
  },
  {
   "cell_type": "markdown",
   "metadata": {},
   "source": [
    "## Redundant Features <a name=\"a2\"></a>"
   ]
  },
  {
   "cell_type": "markdown",
   "metadata": {},
   "source": [
    "Duplicates columns in the dataset will be checked and removed. "
   ]
  },
  {
   "cell_type": "code",
   "execution_count": 10,
   "metadata": {},
   "outputs": [],
   "source": [
    "def getDuplicateColumns(df):\n",
    "    \n",
    "    duplicateColumnNames = set()\n",
    "    # Iterate over all the columns in dataframe\n",
    "    for x in range(df.shape[1]):\n",
    "        # Select column at xth index.\n",
    "        col = df.iloc[:, x]\n",
    "        # Iterate over all the columns in DataFrame from (x+1)th index till end\n",
    "        for y in range(x + 1, df.shape[1]):\n",
    "            # Select column at yth index.\n",
    "            otherCol = df.iloc[:, y]\n",
    "            # Check if two columns at x 7 y index are equal\n",
    "            if col.equals(otherCol):\n",
    "                duplicateColumnNames.add(df.columns.values[y])\n",
    " \n",
    "    return list(duplicateColumnNames)"
   ]
  },
  {
   "cell_type": "code",
   "execution_count": 11,
   "metadata": {},
   "outputs": [
    {
     "name": "stdout",
     "output_type": "stream",
     "text": [
      "Duplicate Columns are as follows\n",
      "Column name :  pS6_N\n"
     ]
    }
   ],
   "source": [
    "# Get list of duplicate columns\n",
    "duplicateColumnNames = getDuplicateColumns(df)\n",
    " \n",
    "print('Duplicate Columns are as follows')\n",
    "for col in duplicateColumnNames:\n",
    "    print('Column name : ', col)"
   ]
  },
  {
   "cell_type": "code",
   "execution_count": 12,
   "metadata": {},
   "outputs": [],
   "source": [
    "# drop the duplicate column\n",
    "df=df.drop(['pS6_N'], axis=1)"
   ]
  },
  {
   "cell_type": "markdown",
   "metadata": {},
   "source": [
    "# Task 2.1: Explore each column <a name=\"b\"></a>"
   ]
  },
  {
   "cell_type": "code",
   "execution_count": 13,
   "metadata": {},
   "outputs": [
    {
     "data": {
      "image/png": "[encoded data removed]",
      "text/plain": [
       "<Figure size 432x288 with 1 Axes>"
      ]
     },
     "metadata": {
      "needs_background": "light"
     },
     "output_type": "display_data"
    }
   ],
   "source": [
    "# Plot frequency of unique values for 'class'\n",
    "df['class'].value_counts().plot(kind='bar')\n",
    "plt.title('Class Frequency Table')\n",
    "plt.xlabel('Class Type')\n",
    "plt.xticks(rotation='horizontal')\n",
    "plt.ylabel('Counts')\n",
    "plt.show()"
   ]
  },
  {
   "cell_type": "markdown",
   "metadata": {},
   "source": [
    "Class of Shock Context(SC) and Context Shock(CS) of the control mice with the Memantine treatment are the highest with equal counts whereas the class of Context Shock(CS) of the trisomic mice  with the Saline treatment is the lowest. "
   ]
  },
  {
   "cell_type": "code",
   "execution_count": 14,
   "metadata": {},
   "outputs": [
    {
     "data": {
      "image/png": "[encoded data removed]",
      "text/plain": [
       "<Figure size 432x288 with 1 Axes>"
      ]
     },
     "metadata": {
      "needs_background": "light"
     },
     "output_type": "display_data"
    },
    {
     "data": {
      "text/plain": [
       "<matplotlib.axes._subplots.AxesSubplot at 0x23109a20cc8>"
      ]
     },
     "execution_count": 14,
     "metadata": {},
     "output_type": "execute_result"
    },
    {
     "data": {
      "image/png": "[encoded data removed]",
      "text/plain": [
       "<Figure size 432x288 with 1 Axes>"
      ]
     },
     "metadata": {},
     "output_type": "display_data"
    }
   ],
   "source": [
    "# Plot frequency of unique values for 'class'\n",
    "df['Behavior'].value_counts().plot(kind='bar')\n",
    "plt.title('Behavior Frequency Table')\n",
    "plt.xlabel('Behavior Type')\n",
    "plt.xticks(rotation='horizontal')\n",
    "plt.ylabel('Counts')\n",
    "plt.show()\n",
    "\n",
    "df['Behavior'].value_counts().plot.pie(autopct='%1.0f%%')"
   ]
  },
  {
   "cell_type": "markdown",
   "metadata": {},
   "source": [
    "In the behaviour of the mice, it is clearly shows that majority of the mice are Shock Context(SC) which means not stimulated to learn and only 49% of the mice are Context Shock(CS) which means stimulated to learn. "
   ]
  },
  {
   "cell_type": "code",
   "execution_count": 15,
   "metadata": {},
   "outputs": [
    {
     "data": {
      "text/plain": [
       "<matplotlib.axes._subplots.AxesSubplot at 0x23109a64d88>"
      ]
     },
     "execution_count": 15,
     "metadata": {},
     "output_type": "execute_result"
    },
    {
     "data": {
      "image/png": "[encoded data removed]",
      "text/plain": [
       "<Figure size 432x288 with 1 Axes>"
      ]
     },
     "metadata": {},
     "output_type": "display_data"
    }
   ],
   "source": [
    "df['Genotype'].value_counts().plot.pie(autopct='%1.0f%%')"
   ]
  },
  {
   "cell_type": "markdown",
   "metadata": {},
   "source": [
    "Less number of trisomic mice(Down Syndrome) is used in this experiment compare to the control mice. "
   ]
  },
  {
   "cell_type": "code",
   "execution_count": 16,
   "metadata": {},
   "outputs": [
    {
     "data": {
      "text/plain": [
       "<matplotlib.axes._subplots.AxesSubplot at 0x23109ab5388>"
      ]
     },
     "execution_count": 16,
     "metadata": {},
     "output_type": "execute_result"
    },
    {
     "data": {
      "image/png": "[encoded data removed]",
      "text/plain": [
       "<Figure size 432x288 with 1 Axes>"
      ]
     },
     "metadata": {},
     "output_type": "display_data"
    }
   ],
   "source": [
    "df['Treatment'].value_counts().plot.pie(autopct='%1.0f%%')"
   ]
  },
  {
   "cell_type": "markdown",
   "metadata": {},
   "source": [
    "More than half of the treatment used Memantine drug in this experiment and Saline is used for the rest of the treatment. "
   ]
  },
  {
   "cell_type": "code",
   "execution_count": 17,
   "metadata": {},
   "outputs": [
    {
     "data": {
      "text/plain": [
       "Text(0, 0.5, 'Counts')"
      ]
     },
     "execution_count": 17,
     "metadata": {},
     "output_type": "execute_result"
    },
    {
     "data": {
      "image/png": "[encoded data removed]",
      "text/plain": [
       "<Figure size 432x288 with 1 Axes>"
      ]
     },
     "metadata": {
      "needs_background": "light"
     },
     "output_type": "display_data"
    }
   ],
   "source": [
    "# Histogram of protein expression level - DYRK1A\n",
    "sns.distplot(df['DYRK1A_N'], hist=True, kde=True, \n",
    "             bins=25, color = 'darkblue', \n",
    "             hist_kws={'edgecolor':'black'},\n",
    "             kde_kws={'linewidth': 4})\n",
    "plt.title('Expression Frequency Table')\n",
    "plt.xlabel('Protein Expression Level')\n",
    "plt.ylabel('Counts')"
   ]
  },
  {
   "cell_type": "code",
   "execution_count": 18,
   "metadata": {},
   "outputs": [
    {
     "data": {
      "text/plain": [
       "Text(0, 0.5, 'Counts')"
      ]
     },
     "execution_count": 18,
     "metadata": {},
     "output_type": "execute_result"
    },
    {
     "data": {
      "image/png": "[encoded data removed]",
      "text/plain": [
       "<Figure size 432x288 with 1 Axes>"
      ]
     },
     "metadata": {
      "needs_background": "light"
     },
     "output_type": "display_data"
    }
   ],
   "source": [
    "# Histogram of protein expression level - ITSN1_N\n",
    "sns.distplot(df['ITSN1_N'], hist=True, kde=True, \n",
    "             bins=25, color = 'darkblue', \n",
    "             hist_kws={'edgecolor':'black'},\n",
    "             kde_kws={'linewidth': 4})\n",
    "plt.title('Expression Frequency Table')\n",
    "plt.xlabel('Protein Expression Level')\n",
    "plt.ylabel('Counts')"
   ]
  },
  {
   "cell_type": "code",
   "execution_count": 19,
   "metadata": {},
   "outputs": [
    {
     "data": {
      "text/plain": [
       "Text(0, 0.5, 'Counts')"
      ]
     },
     "execution_count": 19,
     "metadata": {},
     "output_type": "execute_result"
    },
    {
     "data": {
      "image/png": "[encoded data removed]",
      "text/plain": [
       "<Figure size 432x288 with 1 Axes>"
      ]
     },
     "metadata": {
      "needs_background": "light"
     },
     "output_type": "display_data"
    }
   ],
   "source": [
    "# Histogram of protein expression level - pELK_N\n",
    "sns.distplot(df['pELK_N'], hist=True, kde=True, \n",
    "             bins=25, color = 'darkblue', \n",
    "             hist_kws={'edgecolor':'black'},\n",
    "             kde_kws={'linewidth': 4})\n",
    "plt.title('Expression Frequency Table')\n",
    "plt.xlabel('Protein Expression Level')\n",
    "plt.ylabel('Counts')"
   ]
  },
  {
   "cell_type": "markdown",
   "metadata": {},
   "source": [
    "The histogram of DYRK1A, ITSN1_N and pELK_N are skewed to the right as they have very less larger values on the right side. The few large values brought the mean upwards without affecting the median. Hence, the mean value is higher than the median in these graphs. "
   ]
  },
  {
   "cell_type": "code",
   "execution_count": 20,
   "metadata": {},
   "outputs": [
    {
     "data": {
      "text/plain": [
       "Text(0, 0.5, 'Counts')"
      ]
     },
     "execution_count": 20,
     "metadata": {},
     "output_type": "execute_result"
    },
    {
     "data": {
      "image/png": "[encoded data removed]",
      "text/plain": [
       "<Figure size 432x288 with 1 Axes>"
      ]
     },
     "metadata": {
      "needs_background": "light"
     },
     "output_type": "display_data"
    }
   ],
   "source": [
    "# Histogram of protein expression level - BDNF_N\n",
    "sns.distplot(df['BDNF_N'], hist=True, kde=True, \n",
    "             bins=25, color = 'darkblue', \n",
    "             hist_kws={'edgecolor':'black'},\n",
    "             kde_kws={'linewidth': 4})\n",
    "plt.title('Expression Frequency Table')\n",
    "plt.xlabel('Protein Expression Level')\n",
    "plt.ylabel('Counts')"
   ]
  },
  {
   "cell_type": "code",
   "execution_count": 21,
   "metadata": {},
   "outputs": [
    {
     "data": {
      "text/plain": [
       "Text(0, 0.5, 'Counts')"
      ]
     },
     "execution_count": 21,
     "metadata": {},
     "output_type": "execute_result"
    },
    {
     "data": {
      "image/png": "[encoded data removed]",
      "text/plain": [
       "<Figure size 432x288 with 1 Axes>"
      ]
     },
     "metadata": {
      "needs_background": "light"
     },
     "output_type": "display_data"
    }
   ],
   "source": [
    "# Histogram of protein expression level - NR1_N\n",
    "sns.distplot(df['NR1_N'], hist=True, kde=True, \n",
    "             bins=25, color = 'darkblue', \n",
    "             hist_kws={'edgecolor':'black'},\n",
    "             kde_kws={'linewidth': 4})\n",
    "plt.title('Expression Frequency Table')\n",
    "plt.xlabel('Protein Expression Level')\n",
    "plt.ylabel('Counts')"
   ]
  },
  {
   "cell_type": "code",
   "execution_count": 22,
   "metadata": {},
   "outputs": [
    {
     "data": {
      "text/plain": [
       "Text(0, 0.5, 'Counts')"
      ]
     },
     "execution_count": 22,
     "metadata": {},
     "output_type": "execute_result"
    },
    {
     "data": {
      "image/png": "[encoded data removed]",
      "text/plain": [
       "<Figure size 432x288 with 1 Axes>"
      ]
     },
     "metadata": {
      "needs_background": "light"
     },
     "output_type": "display_data"
    }
   ],
   "source": [
    "# Histogram of protein expression level - SYP_N\n",
    "sns.distplot(df['SYP_N'], hist=True, kde=True, \n",
    "             bins=25, color = 'darkblue', \n",
    "             hist_kws={'edgecolor':'black'},\n",
    "             kde_kws={'linewidth': 4})\n",
    "plt.title('Expression Frequency Table')\n",
    "plt.xlabel('Protein Expression Level')\n",
    "plt.ylabel('Counts')"
   ]
  },
  {
   "cell_type": "markdown",
   "metadata": {},
   "source": [
    "The histogram of BDNF_N, NR1_N and SYP_N are in the same shape at both side from the middle denote the data are symmetric. In the symmetric data, both the mean value are median are almost same. "
   ]
  },
  {
   "cell_type": "markdown",
   "metadata": {},
   "source": [
    "# Task 2.2: Explore the relationship between pairs of attributes <a name=\"c\"></a>"
   ]
  },
  {
   "cell_type": "markdown",
   "metadata": {},
   "source": [
    "Ten pairs of columns are chosen to explore the relationship between the columns. The first  pair is 'Genotype' and 'Treatment'. These two columns are explored to address whether not all the Control mice received Memantine treatment. "
   ]
  },
  {
   "cell_type": "markdown",
   "metadata": {},
   "source": [
    "plausible hypothesis: Not all the Control mice received Memantine treatment. "
   ]
  },
  {
   "cell_type": "code",
   "execution_count": 23,
   "metadata": {},
   "outputs": [
    {
     "data": {
      "text/plain": [
       "True     570\n",
       "False    507\n",
       "Name: Genotype, dtype: int64"
      ]
     },
     "execution_count": 23,
     "metadata": {},
     "output_type": "execute_result"
    }
   ],
   "source": [
    "Control=df['Genotype']=='Control'\n",
    "Control.value_counts()"
   ]
  },
  {
   "cell_type": "code",
   "execution_count": 24,
   "metadata": {},
   "outputs": [
    {
     "data": {
      "text/plain": [
       "Memantine    300\n",
       "Saline       270\n",
       "Name: Treatment, dtype: int64"
      ]
     },
     "execution_count": 24,
     "metadata": {},
     "output_type": "execute_result"
    }
   ],
   "source": [
    "Treatment=df.loc[Control,'Treatment'].value_counts()\n",
    "Treatment"
   ]
  },
  {
   "cell_type": "code",
   "execution_count": 25,
   "metadata": {},
   "outputs": [
    {
     "data": {
      "text/plain": [
       "Text(0, 0.5, 'Counts')"
      ]
     },
     "execution_count": 25,
     "metadata": {},
     "output_type": "execute_result"
    },
    {
     "data": {
      "image/png": "[encoded data removed]",
      "text/plain": [
       "<Figure size 432x288 with 1 Axes>"
      ]
     },
     "metadata": {
      "needs_background": "light"
     },
     "output_type": "display_data"
    }
   ],
   "source": [
    "plt.bar(list(range(2)), Treatment,color='green', align='center')\n",
    "plt.xticks(list(range(2)),['Memantine','Saline'])\n",
    "plt.xlabel('Treatment')\n",
    "plt.ylabel('Counts')"
   ]
  },
  {
   "cell_type": "markdown",
   "metadata": {},
   "source": [
    "The graph above shows that, majority of the Control mice received Memantine drug in the treatment. From 570 Control mice, 300 of the mice are treated using Memantine and the rest 270 mice treated with Saline. It clearly shows that, Control mice are treated with both Memantine and Saline. <br>\n",
    "*The plausible hypothesis is proved.*"
   ]
  },
  {
   "cell_type": "markdown",
   "metadata": {},
   "source": [
    "The second  pair is 'Genotype' and 'Treatment'. These two columns are explored to address whether the most of the Down Syndrome mice received Memantine treatment. "
   ]
  },
  {
   "cell_type": "markdown",
   "metadata": {},
   "source": [
    "plausible hypothesis: Most of the Down Syndrome mice received Memantine treatment. "
   ]
  },
  {
   "cell_type": "code",
   "execution_count": 26,
   "metadata": {},
   "outputs": [
    {
     "data": {
      "text/plain": [
       "False    570\n",
       "True     507\n",
       "Name: Genotype, dtype: int64"
      ]
     },
     "execution_count": 26,
     "metadata": {},
     "output_type": "execute_result"
    }
   ],
   "source": [
    "Control=df['Genotype']=='Ts65Dn'\n",
    "Control.value_counts()"
   ]
  },
  {
   "cell_type": "code",
   "execution_count": 27,
   "metadata": {},
   "outputs": [
    {
     "data": {
      "text/plain": [
       "Memantine    270\n",
       "Saline       237\n",
       "Name: Treatment, dtype: int64"
      ]
     },
     "execution_count": 27,
     "metadata": {},
     "output_type": "execute_result"
    }
   ],
   "source": [
    "Treatment=df.loc[Control,'Treatment'].value_counts()\n",
    "Treatment"
   ]
  },
  {
   "cell_type": "code",
   "execution_count": 28,
   "metadata": {},
   "outputs": [
    {
     "data": {
      "text/plain": [
       "Text(0, 0.5, 'Counts')"
      ]
     },
     "execution_count": 28,
     "metadata": {},
     "output_type": "execute_result"
    },
    {
     "data": {
      "image/png": "[encoded data removed]",
      "text/plain": [
       "<Figure size 432x288 with 1 Axes>"
      ]
     },
     "metadata": {
      "needs_background": "light"
     },
     "output_type": "display_data"
    }
   ],
   "source": [
    "plt.bar(list(range(2)), Treatment,color='green', align='center')\n",
    "plt.xticks(list(range(2)),['Memantine','Saline'])\n",
    "plt.xlabel('Treatment')\n",
    "plt.ylabel('Counts')"
   ]
  },
  {
   "cell_type": "markdown",
   "metadata": {},
   "source": [
    "The graph above shows that,majority of the trisomic mice received Memantine drug in the treatment. From 507 trisomic mice, 270 of the mice are treated using Memantine and the rest 237 mice are treated with Saline. It clearly shows that, trisomic mice are mostly treated using Memantine. <br>\n",
    "*The plausible hypothesis is proved.*"
   ]
  },
  {
   "cell_type": "markdown",
   "metadata": {},
   "source": [
    "The third  pair is 'Treatment' and 'Genotype'. These two columns are explored to address whether Memantine treatment is mostly given to Down Syndrome (Ts65Dn) mice. "
   ]
  },
  {
   "cell_type": "markdown",
   "metadata": {},
   "source": [
    "plausible hypothesis: Memantine treatment is mostly given to Down Syndrome (Ts65Dn) mice. "
   ]
  },
  {
   "cell_type": "code",
   "execution_count": 29,
   "metadata": {},
   "outputs": [
    {
     "data": {
      "text/plain": [
       "True     570\n",
       "False    507\n",
       "Name: Treatment, dtype: int64"
      ]
     },
     "execution_count": 29,
     "metadata": {},
     "output_type": "execute_result"
    }
   ],
   "source": [
    "Treatment=df['Treatment']=='Memantine'\n",
    "Treatment.value_counts()"
   ]
  },
  {
   "cell_type": "code",
   "execution_count": 30,
   "metadata": {},
   "outputs": [
    {
     "data": {
      "text/plain": [
       "Control    300\n",
       "Ts65Dn     270\n",
       "Name: Genotype, dtype: int64"
      ]
     },
     "execution_count": 30,
     "metadata": {},
     "output_type": "execute_result"
    }
   ],
   "source": [
    "Control=df.loc[Treatment,'Genotype'].value_counts()\n",
    "Control"
   ]
  },
  {
   "cell_type": "code",
   "execution_count": 31,
   "metadata": {},
   "outputs": [
    {
     "data": {
      "text/plain": [
       "Text(0, 0.5, 'Counts')"
      ]
     },
     "execution_count": 31,
     "metadata": {},
     "output_type": "execute_result"
    },
    {
     "data": {
      "image/png": "[encoded data removed]",
      "text/plain": [
       "<Figure size 432x288 with 1 Axes>"
      ]
     },
     "metadata": {
      "needs_background": "light"
     },
     "output_type": "display_data"
    }
   ],
   "source": [
    "plt.bar(list(range(2)), Control,color='black', align='center')\n",
    "plt.xticks(list(range(2)),['Control','Ts65Dn'])\n",
    "plt.xlabel('Control')\n",
    "plt.ylabel('Counts')"
   ]
  },
  {
   "cell_type": "markdown",
   "metadata": {},
   "source": [
    "The graph above shows that,most of the Memantine treatment is given to Control mice compare to the trisomic mice. From 570 Memantine treatments given, 300 treatments are given to Control mice and the rest 270 Memantine treatments are given to trisomic mice (Down Syndrome). <br>\n",
    "*The plausible hypothesis is not proved.*"
   ]
  },
  {
   "cell_type": "markdown",
   "metadata": {},
   "source": [
    "The fourth  pair is 'Treatment' and 'Genotype'. These two columns are explored to address whether Saline treatment is mostly given to Control mice."
   ]
  },
  {
   "cell_type": "markdown",
   "metadata": {},
   "source": [
    "plausible hypothesis: Saline treatment is mostly given to Control mice . "
   ]
  },
  {
   "cell_type": "code",
   "execution_count": 32,
   "metadata": {},
   "outputs": [
    {
     "data": {
      "text/plain": [
       "False    570\n",
       "True     507\n",
       "Name: Treatment, dtype: int64"
      ]
     },
     "execution_count": 32,
     "metadata": {},
     "output_type": "execute_result"
    }
   ],
   "source": [
    "Treatment=df['Treatment']=='Saline'\n",
    "Treatment.value_counts()"
   ]
  },
  {
   "cell_type": "code",
   "execution_count": 33,
   "metadata": {},
   "outputs": [
    {
     "data": {
      "text/plain": [
       "Control    270\n",
       "Ts65Dn     237\n",
       "Name: Genotype, dtype: int64"
      ]
     },
     "execution_count": 33,
     "metadata": {},
     "output_type": "execute_result"
    }
   ],
   "source": [
    "Control=df.loc[Treatment,'Genotype'].value_counts()\n",
    "Control"
   ]
  },
  {
   "cell_type": "code",
   "execution_count": 34,
   "metadata": {},
   "outputs": [
    {
     "data": {
      "text/plain": [
       "Text(0, 0.5, 'Counts')"
      ]
     },
     "execution_count": 34,
     "metadata": {},
     "output_type": "execute_result"
    },
    {
     "data": {
      "image/png": "[encoded data removed]",
      "text/plain": [
       "<Figure size 432x288 with 1 Axes>"
      ]
     },
     "metadata": {
      "needs_background": "light"
     },
     "output_type": "display_data"
    }
   ],
   "source": [
    "plt.bar(list(range(2)), Control,color='black', align='center')\n",
    "plt.xticks(list(range(2)),['Control','Ts65Dn'])\n",
    "plt.xlabel('Control')\n",
    "plt.ylabel('Counts')"
   ]
  },
  {
   "cell_type": "markdown",
   "metadata": {},
   "source": [
    "The graph above shows that,most of the Saline treatment is given to Control mice compare to the trisomic mice. From 507 Saline treatments given, 270 treatments are given to Control mice and the rest 237 Saline treatments are given to trisomic mice (Down Syndrome). <br>\n",
    "*The plausible hypothesis is proved.*"
   ]
  },
  {
   "cell_type": "markdown",
   "metadata": {},
   "source": [
    "The fifth  pair is 'Genotype' and 'Behavior'. These two columns are explored to address if all the control mice are belongs to Context Shock(C/S) behavior."
   ]
  },
  {
   "cell_type": "markdown",
   "metadata": {},
   "source": [
    "plausible hypothesis: all the control mice are belongs to Context Shock(C/S) behavior"
   ]
  },
  {
   "cell_type": "code",
   "execution_count": 35,
   "metadata": {},
   "outputs": [
    {
     "data": {
      "text/plain": [
       "True     570\n",
       "False    507\n",
       "Name: Genotype, dtype: int64"
      ]
     },
     "execution_count": 35,
     "metadata": {},
     "output_type": "execute_result"
    }
   ],
   "source": [
    "Genotype=df['Genotype']=='Control'\n",
    "Genotype.value_counts()"
   ]
  },
  {
   "cell_type": "code",
   "execution_count": 36,
   "metadata": {},
   "outputs": [
    {
     "data": {
      "text/plain": [
       "S/C    285\n",
       "C/S    285\n",
       "Name: Behavior, dtype: int64"
      ]
     },
     "execution_count": 36,
     "metadata": {},
     "output_type": "execute_result"
    }
   ],
   "source": [
    "Behavior=df.loc[Genotype,'Behavior'].value_counts()\n",
    "Behavior"
   ]
  },
  {
   "cell_type": "code",
   "execution_count": 37,
   "metadata": {},
   "outputs": [
    {
     "data": {
      "text/plain": [
       "Text(0, 0.5, 'Counts')"
      ]
     },
     "execution_count": 37,
     "metadata": {},
     "output_type": "execute_result"
    },
    {
     "data": {
      "image/png": "[encoded data removed]",
      "text/plain": [
       "<Figure size 432x288 with 1 Axes>"
      ]
     },
     "metadata": {
      "needs_background": "light"
     },
     "output_type": "display_data"
    }
   ],
   "source": [
    "plt.bar(list(range(2)), Behavior,color='blue', align='center')\n",
    "plt.xticks(list(range(2)),['C/S ','S/C'])\n",
    "plt.xlabel('Behavior')\n",
    "plt.ylabel('Counts')"
   ]
  },
  {
   "cell_type": "markdown",
   "metadata": {},
   "source": [
    "The graph above shows that, Control mice have both Context Shock(C/S) behavior and Shock Context (S/C) behavior equally with the total counts of 285 each. <br>\n",
    "*The plausible hypothesis is not proved.*"
   ]
  },
  {
   "cell_type": "markdown",
   "metadata": {},
   "source": [
    "The sixth  pair is 'Genotype' and 'Behavior'. These two columns are explored to address if most the trisomic mice are belongs to  Shock Context(S/C) behavior."
   ]
  },
  {
   "cell_type": "markdown",
   "metadata": {},
   "source": [
    "plausible hypothesis: Most the trisomic mice have Shock Context(S/C) behavior."
   ]
  },
  {
   "cell_type": "code",
   "execution_count": 38,
   "metadata": {},
   "outputs": [
    {
     "data": {
      "text/plain": [
       "False    570\n",
       "True     507\n",
       "Name: Genotype, dtype: int64"
      ]
     },
     "execution_count": 38,
     "metadata": {},
     "output_type": "execute_result"
    }
   ],
   "source": [
    "Genotype=df['Genotype']=='Ts65Dn'\n",
    "Genotype.value_counts()"
   ]
  },
  {
   "cell_type": "code",
   "execution_count": 39,
   "metadata": {},
   "outputs": [
    {
     "data": {
      "text/plain": [
       "S/C    267\n",
       "C/S    240\n",
       "Name: Behavior, dtype: int64"
      ]
     },
     "execution_count": 39,
     "metadata": {},
     "output_type": "execute_result"
    }
   ],
   "source": [
    "Behavior=df.loc[Genotype,'Behavior'].value_counts()\n",
    "Behavior"
   ]
  },
  {
   "cell_type": "code",
   "execution_count": 40,
   "metadata": {},
   "outputs": [
    {
     "data": {
      "text/plain": [
       "Text(0, 0.5, 'Counts')"
      ]
     },
     "execution_count": 40,
     "metadata": {},
     "output_type": "execute_result"
    },
    {
     "data": {
      "image/png": "[encoded data removed]",
      "text/plain": [
       "<Figure size 432x288 with 1 Axes>"
      ]
     },
     "metadata": {
      "needs_background": "light"
     },
     "output_type": "display_data"
    }
   ],
   "source": [
    "plt.bar(list(range(2)), Behavior,color='blue', align='center')\n",
    "plt.xticks(list(range(2)),['S/C',' C/S'])\n",
    "plt.xlabel('Behavior')\n",
    "plt.ylabel('Counts')"
   ]
  },
  {
   "cell_type": "markdown",
   "metadata": {},
   "source": [
    "The graph above shows that, trisomic mice are mostly have Shock Context(S/C) behavior. From 507 trisomic mice, 267 mice have Shock Context(S/C) behavior and the rest 240 mice have Context Shock (C/S) behavior.  <br>\n",
    "*The plausible hypothesis is proved.*"
   ]
  },
  {
   "cell_type": "markdown",
   "metadata": {},
   "source": [
    "The sevent  pair is 'Behavior' and 'Genotype'. These two columns are explored to address if Shock Context(C/S) behavior is mostly from the Control mice ."
   ]
  },
  {
   "cell_type": "markdown",
   "metadata": {},
   "source": [
    "plausible hypothesis: Shock Context(C/S) behavior is mostly from the Control mice ."
   ]
  },
  {
   "cell_type": "code",
   "execution_count": 41,
   "metadata": {},
   "outputs": [
    {
     "data": {
      "text/plain": [
       "True     552\n",
       "False    525\n",
       "Name: Behavior, dtype: int64"
      ]
     },
     "execution_count": 41,
     "metadata": {},
     "output_type": "execute_result"
    }
   ],
   "source": [
    "Behavior=df['Behavior']=='S/C'\n",
    "Behavior.value_counts()"
   ]
  },
  {
   "cell_type": "code",
   "execution_count": 42,
   "metadata": {},
   "outputs": [
    {
     "data": {
      "text/plain": [
       "Control    285\n",
       "Ts65Dn     267\n",
       "Name: Genotype, dtype: int64"
      ]
     },
     "execution_count": 42,
     "metadata": {},
     "output_type": "execute_result"
    }
   ],
   "source": [
    "Genotype=df.loc[Behavior,'Genotype'].value_counts()\n",
    "Genotype"
   ]
  },
  {
   "cell_type": "code",
   "execution_count": 43,
   "metadata": {},
   "outputs": [
    {
     "data": {
      "text/plain": [
       "Text(0, 0.5, 'Counts')"
      ]
     },
     "execution_count": 43,
     "metadata": {},
     "output_type": "execute_result"
    },
    {
     "data": {
      "image/png": "[encoded data removed]",
      "text/plain": [
       "<Figure size 432x288 with 1 Axes>"
      ]
     },
     "metadata": {
      "needs_background": "light"
     },
     "output_type": "display_data"
    }
   ],
   "source": [
    "plt.bar(list(range(2)), Genotype,color='orangered', align='center')\n",
    "plt.xticks(list(range(2)),['Control','Ts65Dn'])\n",
    "plt.xlabel('Genotype')\n",
    "plt.ylabel('Counts')"
   ]
  },
  {
   "cell_type": "markdown",
   "metadata": {},
   "source": [
    "The graph above shows that, Control mice are mostly have Shock Context(S/C) behavior compare to trisomic mice. From 552 Shock Context(S/C) behavior, 285 Shock Context(S/C) behavior is from the Control mice and the rest 267 Shock Context(S/C) behavior is from the trisomic mice.  <br>\n",
    "*The plausible hypothesis is proved.*"
   ]
  },
  {
   "cell_type": "markdown",
   "metadata": {},
   "source": [
    "The eight  pair is 'Treatment' and 'Behavior'. These two columns are explored to address if most the mice that received Memantine treatment are belongs to Context Shock(C/S) behavior."
   ]
  },
  {
   "cell_type": "markdown",
   "metadata": {},
   "source": [
    "plausible hypothesis: Most of the Memantine treatment is given to the mice with Context Shock(C/S) behavior. "
   ]
  },
  {
   "cell_type": "code",
   "execution_count": 44,
   "metadata": {},
   "outputs": [
    {
     "data": {
      "text/plain": [
       "True     570\n",
       "False    507\n",
       "Name: Treatment, dtype: int64"
      ]
     },
     "execution_count": 44,
     "metadata": {},
     "output_type": "execute_result"
    }
   ],
   "source": [
    "Treatment=df['Treatment']=='Memantine'\n",
    "Treatment.value_counts()"
   ]
  },
  {
   "cell_type": "code",
   "execution_count": 45,
   "metadata": {},
   "outputs": [
    {
     "data": {
      "text/plain": [
       "S/C    285\n",
       "C/S    285\n",
       "Name: Behavior, dtype: int64"
      ]
     },
     "execution_count": 45,
     "metadata": {},
     "output_type": "execute_result"
    }
   ],
   "source": [
    "Behavior=df.loc[Treatment,'Behavior'].value_counts()\n",
    "Behavior"
   ]
  },
  {
   "cell_type": "code",
   "execution_count": 46,
   "metadata": {},
   "outputs": [
    {
     "data": {
      "text/plain": [
       "Text(0, 0.5, 'Counts')"
      ]
     },
     "execution_count": 46,
     "metadata": {},
     "output_type": "execute_result"
    },
    {
     "data": {
      "image/png": "[encoded data removed]",
      "text/plain": [
       "<Figure size 432x288 with 1 Axes>"
      ]
     },
     "metadata": {
      "needs_background": "light"
     },
     "output_type": "display_data"
    }
   ],
   "source": [
    "plt.bar(list(range(2)), Behavior,color='orangered', align='center')\n",
    "plt.xticks(list(range(2)),['S/C','C/S'])\n",
    "plt.xlabel('Behavior')\n",
    "plt.ylabel('Counts')"
   ]
  },
  {
   "cell_type": "markdown",
   "metadata": {},
   "source": [
    "The graph above shows that, Memantine treatment is equally given to mice which have Context Shock(C/S) behavior and Shock Context (S/C) behavior with the total counts of 285 each. <br>\n",
    "*The plausible hypothesis is not proved.*"
   ]
  },
  {
   "cell_type": "markdown",
   "metadata": {},
   "source": [
    "The nineth  pair is 'Treatment' and 'Behavior'. These two columns are explored to address if most the mice that received Saline treatment are belongs to Shock Context(C/S) behavior."
   ]
  },
  {
   "cell_type": "markdown",
   "metadata": {},
   "source": [
    "plausible hypothesis: Most of the Saline treatment is given to the mice with Shock Context(C/S) behavior. "
   ]
  },
  {
   "cell_type": "code",
   "execution_count": 47,
   "metadata": {},
   "outputs": [
    {
     "data": {
      "text/plain": [
       "False    570\n",
       "True     507\n",
       "Name: Treatment, dtype: int64"
      ]
     },
     "execution_count": 47,
     "metadata": {},
     "output_type": "execute_result"
    }
   ],
   "source": [
    "Treatment=df['Treatment']=='Saline'\n",
    "Treatment.value_counts()"
   ]
  },
  {
   "cell_type": "code",
   "execution_count": 48,
   "metadata": {},
   "outputs": [
    {
     "data": {
      "text/plain": [
       "S/C    267\n",
       "C/S    240\n",
       "Name: Behavior, dtype: int64"
      ]
     },
     "execution_count": 48,
     "metadata": {},
     "output_type": "execute_result"
    }
   ],
   "source": [
    "Behavior=df.loc[Treatment,'Behavior'].value_counts()\n",
    "Behavior"
   ]
  },
  {
   "cell_type": "code",
   "execution_count": 49,
   "metadata": {},
   "outputs": [
    {
     "data": {
      "text/plain": [
       "Text(0, 0.5, 'Counts')"
      ]
     },
     "execution_count": 49,
     "metadata": {},
     "output_type": "execute_result"
    },
    {
     "data": {
      "image/png": "[encoded data removed]",
      "text/plain": [
       "<Figure size 432x288 with 1 Axes>"
      ]
     },
     "metadata": {
      "needs_background": "light"
     },
     "output_type": "display_data"
    }
   ],
   "source": [
    "plt.bar(list(range(2)), Behavior,color='purple', align='center')\n",
    "plt.xticks(list(range(2)),['S/C','C/S'])\n",
    "plt.xlabel('Behavior')\n",
    "plt.ylabel('Counts')"
   ]
  },
  {
   "cell_type": "markdown",
   "metadata": {},
   "source": [
    "The graph above shows that, Saline treatment is mostly given to mice which have Shock Context (S/C) behavior. From 507 Saline treatments, 267 treatments are given to Shock Context (S/C) behavior mice and the rest 240 treatments are given to Context Shock (C/S) behavior mice. <br>\n",
    "*The plausible hypothesis is proved.*"
   ]
  },
  {
   "cell_type": "markdown",
   "metadata": {},
   "source": [
    "The last  pair is 'Behavior' and 'Treatment'. These two columns are explored to address if Shock Context(S/C) behavior mice are mostly received Memantine treatment."
   ]
  },
  {
   "cell_type": "markdown",
   "metadata": {},
   "source": [
    "plausible hypothesis: Mice with Shock Context(S/C) behavior are mostly received Memantine treatment."
   ]
  },
  {
   "cell_type": "code",
   "execution_count": 50,
   "metadata": {},
   "outputs": [
    {
     "data": {
      "text/plain": [
       "True     552\n",
       "False    525\n",
       "Name: Behavior, dtype: int64"
      ]
     },
     "execution_count": 50,
     "metadata": {},
     "output_type": "execute_result"
    }
   ],
   "source": [
    "Behavior=df['Behavior']=='S/C'\n",
    "Behavior.value_counts()"
   ]
  },
  {
   "cell_type": "code",
   "execution_count": 51,
   "metadata": {},
   "outputs": [
    {
     "data": {
      "text/plain": [
       "Memantine    285\n",
       "Saline       267\n",
       "Name: Treatment, dtype: int64"
      ]
     },
     "execution_count": 51,
     "metadata": {},
     "output_type": "execute_result"
    }
   ],
   "source": [
    "Treatment=df.loc[Behavior,'Treatment'].value_counts()\n",
    "Treatment"
   ]
  },
  {
   "cell_type": "code",
   "execution_count": 52,
   "metadata": {},
   "outputs": [
    {
     "data": {
      "text/plain": [
       "Text(0, 0.5, 'Counts')"
      ]
     },
     "execution_count": 52,
     "metadata": {},
     "output_type": "execute_result"
    },
    {
     "data": {
      "image/png": "[encoded data removed]",
      "text/plain": [
       "<Figure size 432x288 with 1 Axes>"
      ]
     },
     "metadata": {
      "needs_background": "light"
     },
     "output_type": "display_data"
    }
   ],
   "source": [
    "plt.bar(list(range(2)), Treatment,color='purple', align='center')\n",
    "plt.xticks(list(range(2)),['Memantine','Saline'])\n",
    "plt.xlabel('Treatment')\n",
    "plt.ylabel('Counts')"
   ]
  },
  {
   "cell_type": "markdown",
   "metadata": {},
   "source": [
    "The graph above shows that, the mice which have Shock Context (S/C) behavior mostly received Memantine treatment. From 552 Shock Context (S/C) behavior mice, 285 of them received Memantine treatment and the rest 267 Shock Context (S/C) behavior mice received Saline treatment. <br>\n",
    "*The plausible hypothesis is proved.*"
   ]
  },
  {
   "cell_type": "markdown",
   "metadata": {},
   "source": [
    "# Task 3: Data Modelling <a name=\"d\"></a>"
   ]
  },
  {
   "cell_type": "markdown",
   "metadata": {},
   "source": [
    "## Methodology <a name=\"d1\"></a>"
   ]
  },
  {
   "cell_type": "markdown",
   "metadata": {},
   "source": [
    "This project presents a comparative analysis of Mice Protein Expression using two different machine learning algorithms. \n",
    "The comparative analysis will be performed to study the influences of protein which could have impacted the recuperating ability of the Down Syndrome mice to learn.\n",
    "In this project, 2 different machine learning algorithms will be used to build the models. Performance and the accuracy level of the models will be evaluated using hyperparameters tuning and cross-validation method.\n",
    "The best model with high accuracy will be selected as the proposed model for this project. KNN and Decision tree are the algorithms that will be used in building the models.<br>\n",
    "The proposed models will be involved five main stages of scrutiny:\n",
    " - First stage: Feature selection, where the important features will be selected to build the models\n",
    " - Second stage: Pre-processing stage where the selected features will go through scaling. Also the target feature is encoded to numeric. \n",
    " - Third stage:Classification, where the 2 different algorithms used to build the models separately\n",
    " - Fourth stage:Model selection, where a grid search or hyperparameters tuning is used for the models to find the optimal parameters  \n",
    " - Fifth stage:  Performance comparison, where each model will be compared to the other models using paired t-tests"
   ]
  },
  {
   "cell_type": "markdown",
   "metadata": {},
   "source": [
    "## Feature selection <a name=\"d2\"></a>\n",
    "Since this study is about analyzing the protein influence in the recovering learning ability among the trisomic mice, all the 76 expression levels of protein are used in the feature selection to find out 15 most important features. The feature selection is performed using Random Forest Importance(RFI). The'class' column that shows that result of the experiment is selected as the target variable.   "
   ]
  },
  {
   "cell_type": "code",
   "execution_count": 53,
   "metadata": {},
   "outputs": [],
   "source": [
    "# Assigning the data and target\n",
    "x = df.loc[:, 'DYRK1A_N':'CaNA_N']\n",
    "y = df['class']\n"
   ]
  },
  {
   "cell_type": "code",
   "execution_count": 54,
   "metadata": {},
   "outputs": [
    {
     "data": {
      "text/plain": [
       "array(['SOD1_N', 'pERK_N', 'pPKCG_N', 'APP_N', 'Ubiquitin_N', 'CaNA_N',\n",
       "       'pPKCAB_N', 'DYRK1A_N', 'pCAMKII_N', 'ARC_N', 'BRAF_N', 'pP70S6_N',\n",
       "       'ITSN1_N', 'Tau_N', 'S6_N'], dtype=object)"
      ]
     },
     "execution_count": 54,
     "metadata": {},
     "output_type": "execute_result"
    }
   ],
   "source": [
    "#performing feature selection\n",
    "from sklearn.ensemble import RandomForestClassifier\n",
    "\n",
    "num_features = 15\n",
    "model_rfi = RandomForestClassifier(n_estimators=100)\n",
    "model_rfi.fit(x, df['class'])\n",
    "fs_indices_rfi = np.argsort(model_rfi.feature_importances_)[::-1][0:num_features]\n",
    "\n",
    "best_features_rfi = x.columns[fs_indices_rfi].values\n",
    "best_features_rfi"
   ]
  },
  {
   "cell_type": "code",
   "execution_count": 55,
   "metadata": {},
   "outputs": [
    {
     "data": {
      "text/plain": [
       "array([0.06447463, 0.03910714, 0.03905384, 0.03484362, 0.03295739,\n",
       "       0.03106709, 0.02594929, 0.0257327 , 0.02543356, 0.02510229,\n",
       "       0.0234713 , 0.0230527 , 0.02227448, 0.02204443, 0.02103054])"
      ]
     },
     "execution_count": 55,
     "metadata": {},
     "output_type": "execute_result"
    }
   ],
   "source": [
    "feature_importances_rfi = model_rfi.feature_importances_[fs_indices_rfi]\n",
    "feature_importances_rfi"
   ]
  },
  {
   "cell_type": "code",
   "execution_count": 56,
   "metadata": {},
   "outputs": [
    {
     "data": {
      "text/html": [
       "<div>\n",
       "<style scoped>\n",
       "    .dataframe tbody tr th:only-of-type {\n",
       "        vertical-align: middle;\n",
       "    }\n",
       "\n",
       "    .dataframe tbody tr th {\n",
       "        vertical-align: top;\n",
       "    }\n",
       "\n",
       "    .dataframe thead th {\n",
       "        text-align: right;\n",
       "    }\n",
       "</style>\n",
       "<table border=\"1\" class=\"dataframe\">\n",
       "  <thead>\n",
       "    <tr style=\"text-align: right;\">\n",
       "      <th></th>\n",
       "      <th>features</th>\n",
       "      <th>importances</th>\n",
       "    </tr>\n",
       "  </thead>\n",
       "  <tbody>\n",
       "    <tr>\n",
       "      <th>0</th>\n",
       "      <td>SOD1_N</td>\n",
       "      <td>0.064475</td>\n",
       "    </tr>\n",
       "    <tr>\n",
       "      <th>1</th>\n",
       "      <td>pERK_N</td>\n",
       "      <td>0.039107</td>\n",
       "    </tr>\n",
       "    <tr>\n",
       "      <th>2</th>\n",
       "      <td>pPKCG_N</td>\n",
       "      <td>0.039054</td>\n",
       "    </tr>\n",
       "    <tr>\n",
       "      <th>3</th>\n",
       "      <td>APP_N</td>\n",
       "      <td>0.034844</td>\n",
       "    </tr>\n",
       "    <tr>\n",
       "      <th>4</th>\n",
       "      <td>Ubiquitin_N</td>\n",
       "      <td>0.032957</td>\n",
       "    </tr>\n",
       "    <tr>\n",
       "      <th>5</th>\n",
       "      <td>CaNA_N</td>\n",
       "      <td>0.031067</td>\n",
       "    </tr>\n",
       "    <tr>\n",
       "      <th>6</th>\n",
       "      <td>pPKCAB_N</td>\n",
       "      <td>0.025949</td>\n",
       "    </tr>\n",
       "    <tr>\n",
       "      <th>7</th>\n",
       "      <td>DYRK1A_N</td>\n",
       "      <td>0.025733</td>\n",
       "    </tr>\n",
       "    <tr>\n",
       "      <th>8</th>\n",
       "      <td>pCAMKII_N</td>\n",
       "      <td>0.025434</td>\n",
       "    </tr>\n",
       "    <tr>\n",
       "      <th>9</th>\n",
       "      <td>ARC_N</td>\n",
       "      <td>0.025102</td>\n",
       "    </tr>\n",
       "    <tr>\n",
       "      <th>10</th>\n",
       "      <td>BRAF_N</td>\n",
       "      <td>0.023471</td>\n",
       "    </tr>\n",
       "    <tr>\n",
       "      <th>11</th>\n",
       "      <td>pP70S6_N</td>\n",
       "      <td>0.023053</td>\n",
       "    </tr>\n",
       "    <tr>\n",
       "      <th>12</th>\n",
       "      <td>ITSN1_N</td>\n",
       "      <td>0.022274</td>\n",
       "    </tr>\n",
       "    <tr>\n",
       "      <th>13</th>\n",
       "      <td>Tau_N</td>\n",
       "      <td>0.022044</td>\n",
       "    </tr>\n",
       "    <tr>\n",
       "      <th>14</th>\n",
       "      <td>S6_N</td>\n",
       "      <td>0.021031</td>\n",
       "    </tr>\n",
       "  </tbody>\n",
       "</table>\n",
       "</div>"
      ],
      "text/plain": [
       "       features  importances\n",
       "0        SOD1_N     0.064475\n",
       "1        pERK_N     0.039107\n",
       "2       pPKCG_N     0.039054\n",
       "3         APP_N     0.034844\n",
       "4   Ubiquitin_N     0.032957\n",
       "5        CaNA_N     0.031067\n",
       "6      pPKCAB_N     0.025949\n",
       "7      DYRK1A_N     0.025733\n",
       "8     pCAMKII_N     0.025434\n",
       "9         ARC_N     0.025102\n",
       "10       BRAF_N     0.023471\n",
       "11     pP70S6_N     0.023053\n",
       "12      ITSN1_N     0.022274\n",
       "13        Tau_N     0.022044\n",
       "14         S6_N     0.021031"
      ]
     },
     "execution_count": 56,
     "metadata": {},
     "output_type": "execute_result"
    }
   ],
   "source": [
    "df_imp = pd.DataFrame({'features': best_features_rfi, \n",
    "                       'importances': feature_importances_rfi})\n",
    "#list of 15 important features\n",
    "df_imp"
   ]
  },
  {
   "cell_type": "code",
   "execution_count": 57,
   "metadata": {},
   "outputs": [
    {
     "data": {
      "text/html": [
       "<div>\n",
       "<style scoped>\n",
       "    .dataframe tbody tr th:only-of-type {\n",
       "        vertical-align: middle;\n",
       "    }\n",
       "\n",
       "    .dataframe tbody tr th {\n",
       "        vertical-align: top;\n",
       "    }\n",
       "\n",
       "    .dataframe thead th {\n",
       "        text-align: right;\n",
       "    }\n",
       "</style>\n",
       "<table border=\"1\" class=\"dataframe\">\n",
       "  <thead>\n",
       "    <tr style=\"text-align: right;\">\n",
       "      <th></th>\n",
       "      <th>SOD1_N</th>\n",
       "      <th>pPKCG_N</th>\n",
       "      <th>pERK_N</th>\n",
       "      <th>APP_N</th>\n",
       "      <th>CaNA_N</th>\n",
       "      <th>BRAF_N</th>\n",
       "      <th>Ubiquitin_N</th>\n",
       "      <th>DYRK1A_N</th>\n",
       "      <th>pPKCAB_N</th>\n",
       "      <th>pCAMKII_N</th>\n",
       "      <th>Tau_N</th>\n",
       "      <th>ITSN1_N</th>\n",
       "      <th>pP70S6_N</th>\n",
       "      <th>ARC_N</th>\n",
       "      <th>S6_N</th>\n",
       "    </tr>\n",
       "  </thead>\n",
       "  <tbody>\n",
       "    <tr>\n",
       "      <th>0</th>\n",
       "      <td>0.369510</td>\n",
       "      <td>1.443091</td>\n",
       "      <td>0.687906</td>\n",
       "      <td>0.453910</td>\n",
       "      <td>1.675652</td>\n",
       "      <td>0.416289</td>\n",
       "      <td>1.044979</td>\n",
       "      <td>0.503644</td>\n",
       "      <td>2.308745</td>\n",
       "      <td>2.373744</td>\n",
       "      <td>0.125190</td>\n",
       "      <td>0.747193</td>\n",
       "      <td>0.294170</td>\n",
       "      <td>0.106305</td>\n",
       "      <td>0.354605</td>\n",
       "    </tr>\n",
       "    <tr>\n",
       "      <th>1</th>\n",
       "      <td>0.342279</td>\n",
       "      <td>1.439460</td>\n",
       "      <td>0.695006</td>\n",
       "      <td>0.430940</td>\n",
       "      <td>1.743610</td>\n",
       "      <td>0.400364</td>\n",
       "      <td>1.009883</td>\n",
       "      <td>0.514617</td>\n",
       "      <td>2.043037</td>\n",
       "      <td>2.292150</td>\n",
       "      <td>0.134275</td>\n",
       "      <td>0.689064</td>\n",
       "      <td>0.276431</td>\n",
       "      <td>0.106592</td>\n",
       "      <td>0.354548</td>\n",
       "    </tr>\n",
       "    <tr>\n",
       "      <th>2</th>\n",
       "      <td>0.343696</td>\n",
       "      <td>1.524364</td>\n",
       "      <td>0.677348</td>\n",
       "      <td>0.423187</td>\n",
       "      <td>1.926427</td>\n",
       "      <td>0.399847</td>\n",
       "      <td>0.996848</td>\n",
       "      <td>0.509183</td>\n",
       "      <td>2.017984</td>\n",
       "      <td>2.283337</td>\n",
       "      <td>0.132560</td>\n",
       "      <td>0.730247</td>\n",
       "      <td>0.256648</td>\n",
       "      <td>0.108303</td>\n",
       "      <td>0.386087</td>\n",
       "    </tr>\n",
       "    <tr>\n",
       "      <th>3</th>\n",
       "      <td>0.344509</td>\n",
       "      <td>1.612382</td>\n",
       "      <td>0.583277</td>\n",
       "      <td>0.410615</td>\n",
       "      <td>1.700563</td>\n",
       "      <td>0.385639</td>\n",
       "      <td>0.990225</td>\n",
       "      <td>0.442107</td>\n",
       "      <td>2.132754</td>\n",
       "      <td>2.152301</td>\n",
       "      <td>0.123210</td>\n",
       "      <td>0.617076</td>\n",
       "      <td>0.398534</td>\n",
       "      <td>0.103184</td>\n",
       "      <td>0.290680</td>\n",
       "    </tr>\n",
       "    <tr>\n",
       "      <th>4</th>\n",
       "      <td>0.329126</td>\n",
       "      <td>1.645807</td>\n",
       "      <td>0.550960</td>\n",
       "      <td>0.398550</td>\n",
       "      <td>1.839730</td>\n",
       "      <td>0.367531</td>\n",
       "      <td>0.997775</td>\n",
       "      <td>0.434940</td>\n",
       "      <td>2.013697</td>\n",
       "      <td>2.134014</td>\n",
       "      <td>0.136838</td>\n",
       "      <td>0.617430</td>\n",
       "      <td>0.393447</td>\n",
       "      <td>0.104784</td>\n",
       "      <td>0.309345</td>\n",
       "    </tr>\n",
       "  </tbody>\n",
       "</table>\n",
       "</div>"
      ],
      "text/plain": [
       "     SOD1_N   pPKCG_N    pERK_N     APP_N    CaNA_N    BRAF_N  Ubiquitin_N  \\\n",
       "0  0.369510  1.443091  0.687906  0.453910  1.675652  0.416289     1.044979   \n",
       "1  0.342279  1.439460  0.695006  0.430940  1.743610  0.400364     1.009883   \n",
       "2  0.343696  1.524364  0.677348  0.423187  1.926427  0.399847     0.996848   \n",
       "3  0.344509  1.612382  0.583277  0.410615  1.700563  0.385639     0.990225   \n",
       "4  0.329126  1.645807  0.550960  0.398550  1.839730  0.367531     0.997775   \n",
       "\n",
       "   DYRK1A_N  pPKCAB_N  pCAMKII_N     Tau_N   ITSN1_N  pP70S6_N     ARC_N  \\\n",
       "0  0.503644  2.308745   2.373744  0.125190  0.747193  0.294170  0.106305   \n",
       "1  0.514617  2.043037   2.292150  0.134275  0.689064  0.276431  0.106592   \n",
       "2  0.509183  2.017984   2.283337  0.132560  0.730247  0.256648  0.108303   \n",
       "3  0.442107  2.132754   2.152301  0.123210  0.617076  0.398534  0.103184   \n",
       "4  0.434940  2.013697   2.134014  0.136838  0.617430  0.393447  0.104784   \n",
       "\n",
       "       S6_N  \n",
       "0  0.354605  \n",
       "1  0.354548  \n",
       "2  0.386087  \n",
       "3  0.290680  \n",
       "4  0.309345  "
      ]
     },
     "execution_count": 57,
     "metadata": {},
     "output_type": "execute_result"
    }
   ],
   "source": [
    "x = df[['SOD1_N', 'pPKCG_N', 'pERK_N', 'APP_N',\n",
    "       'CaNA_N', 'BRAF_N', 'Ubiquitin_N', 'DYRK1A_N',\n",
    "       'pPKCAB_N', 'pCAMKII_N', 'Tau_N',\n",
    "       'ITSN1_N', 'pP70S6_N', 'ARC_N',\n",
    "       'S6_N']].copy()\n",
    "\n",
    "x.head(5)"
   ]
  },
  {
   "cell_type": "markdown",
   "metadata": {},
   "source": [
    "## Feature scaling <a name=\"d3\"></a>\n",
    "Feature scaling is crucial in data pre-processing as it normalises the selected features or data within a particular range which assist in speeding up the calculation in the algorithms.In this study, min-max scaling is used to scale the selected features"
   ]
  },
  {
   "cell_type": "code",
   "execution_count": 58,
   "metadata": {},
   "outputs": [],
   "source": [
    "from sklearn import preprocessing\n",
    "\n",
    "# Create a minimum and maximum processor object\n",
    "min_max_scaler = preprocessing.StandardScaler()\n",
    "\n",
    "# Create an object to transform the data to fit minmax processor\n",
    "x = min_max_scaler.fit_transform(x)\n"
   ]
  },
  {
   "cell_type": "markdown",
   "metadata": {},
   "source": [
    "### Target encoding <a name=\"d33\"></a>\n",
    "The target feature is converted to numbers from 0 to 6 using LabelEncoder as below:\n",
    "0 = c-CS-m <br>\n",
    "1 = c-CS-s<br>\n",
    "2 = c-SC-m<br>\n",
    "3 = c-SC-s<br>\n",
    "4 = t-CS-m<br>\n",
    "5 = t-CS-s<br>\n",
    "6 = t-SC-m<br>\n",
    "7 = t-SC-s"
   ]
  },
  {
   "cell_type": "code",
   "execution_count": 59,
   "metadata": {},
   "outputs": [
    {
     "data": {
      "text/plain": [
       "(array(['c-CS-m', 'c-CS-s', 'c-SC-m', 'c-SC-s', 't-CS-m', 't-CS-s',\n",
       "        't-SC-m', 't-SC-s'], dtype=object),\n",
       " array([150, 135, 150, 135, 135, 105, 135, 132], dtype=int64))"
      ]
     },
     "execution_count": 59,
     "metadata": {},
     "output_type": "execute_result"
    }
   ],
   "source": [
    "np.unique(y, return_counts = True)"
   ]
  },
  {
   "cell_type": "code",
   "execution_count": 60,
   "metadata": {},
   "outputs": [],
   "source": [
    "#performing label encoding to target features\n",
    "from sklearn import preprocessing\n",
    "\n",
    "y = preprocessing.LabelEncoder().fit_transform(y)"
   ]
  },
  {
   "cell_type": "code",
   "execution_count": 61,
   "metadata": {},
   "outputs": [
    {
     "data": {
      "text/plain": [
       "(array([0, 1, 2, 3, 4, 5, 6, 7]),\n",
       " array([150, 135, 150, 135, 135, 105, 135, 132], dtype=int64))"
      ]
     },
     "execution_count": 61,
     "metadata": {},
     "output_type": "execute_result"
    }
   ],
   "source": [
    "np.unique(y, return_counts = True)\n"
   ]
  },
  {
   "cell_type": "markdown",
   "metadata": {},
   "source": [
    "## Classification Algorithm <a name=\"d4\"></a>\n",
    "The dataset is splitted into training and testing sets with the ratio of 70:30. The training set has 753 rows and th testing set has 324 rows. "
   ]
  },
  {
   "cell_type": "code",
   "execution_count": 62,
   "metadata": {},
   "outputs": [
    {
     "name": "stdout",
     "output_type": "stream",
     "text": [
      "Length of x_train: 753 \n",
      "Length of y_train: 753\n",
      "Length of x_test: 324 \n",
      "Length of y_test: 324\n"
     ]
    }
   ],
   "source": [
    "from sklearn.model_selection import train_test_split\n",
    "x_train, x_test, y_train, y_test = train_test_split(x,y, test_size = 0.3, random_state=999)\n",
    "\n",
    "print('Length of x_train:',len(x_train),'\\nLength of y_train:',len(y_train))\n",
    "print('Length of x_test:',len(x_test),'\\nLength of y_test:',len(y_test))"
   ]
  },
  {
   "cell_type": "markdown",
   "metadata": {},
   "source": [
    "### KNN  <a name=\"d41\"></a>"
   ]
  },
  {
   "cell_type": "markdown",
   "metadata": {},
   "source": [
    "A random value for k is selected to find out the accuracy score."
   ]
  },
  {
   "cell_type": "code",
   "execution_count": 63,
   "metadata": {},
   "outputs": [
    {
     "name": "stdout",
     "output_type": "stream",
     "text": [
      "Accuracy: 0.9444444444444444\n"
     ]
    }
   ],
   "source": [
    "from sklearn.neighbors import KNeighborsClassifier\n",
    "from sklearn.metrics import accuracy_score\n",
    "\n",
    "knc = KNeighborsClassifier(n_neighbors=5)\n",
    "\n",
    "# fitting the model\n",
    "knc.fit(x_train, y_train)\n",
    "\n",
    "# predict the response\n",
    "y_pred = knc.predict(x_test)\n",
    "\n",
    "from sklearn import metrics\n",
    "# Model Accuracy, how often is the classifier correct?\n",
    "print(\"Accuracy:\",metrics.accuracy_score(y_test, y_pred))"
   ]
  },
  {
   "cell_type": "code",
   "execution_count": 64,
   "metadata": {},
   "outputs": [
    {
     "name": "stdout",
     "output_type": "stream",
     "text": [
      "[[48  2  0  0  0  0  0  0]\n",
      " [ 6 37  0  0  1  0  0  0]\n",
      " [ 0  0 36  0  0  0  0  0]\n",
      " [ 0  0  0 44  0  0  0  1]\n",
      " [ 1  1  0  0 34  4  0  0]\n",
      " [ 0  0  0  0  0 25  0  0]\n",
      " [ 0  0  2  0  0  0 39  0]\n",
      " [ 0  0  0  0  0  0  0 43]]\n",
      "              precision    recall  f1-score   support\n",
      "\n",
      "           0       0.87      0.96      0.91        50\n",
      "           1       0.93      0.84      0.88        44\n",
      "           2       0.95      1.00      0.97        36\n",
      "           3       1.00      0.98      0.99        45\n",
      "           4       0.97      0.85      0.91        40\n",
      "           5       0.86      1.00      0.93        25\n",
      "           6       1.00      0.95      0.97        41\n",
      "           7       0.98      1.00      0.99        43\n",
      "\n",
      "    accuracy                           0.94       324\n",
      "   macro avg       0.94      0.95      0.94       324\n",
      "weighted avg       0.95      0.94      0.94       324\n",
      "\n"
     ]
    }
   ],
   "source": [
    "from sklearn.metrics import classification_report, confusion_matrix\n",
    "print(confusion_matrix(y_test, y_pred))\n",
    "print (classification_report(y_test, y_pred))"
   ]
  },
  {
   "cell_type": "code",
   "execution_count": 65,
   "metadata": {},
   "outputs": [
    {
     "data": {
      "image/png": "[encoded data removed]",
      "text/plain": [
       "<Figure size 432x288 with 2 Axes>"
      ]
     },
     "metadata": {
      "needs_background": "light"
     },
     "output_type": "display_data"
    }
   ],
   "source": [
    "from sklearn.metrics import plot_confusion_matrix\n",
    "\n",
    "plot_confusion_matrix(knc, x_test, y_test) \n",
    "plt.show()"
   ]
  },
  {
   "cell_type": "markdown",
   "metadata": {},
   "source": [
    "#### KNN  tuning <a name=\"d411\"></a>"
   ]
  },
  {
   "cell_type": "markdown",
   "metadata": {},
   "source": [
    "Minimal error rate indicats the best K value. However, using the test data for hyperparameter tuning results overfitting. Hence, So 10-fold cross validation is used to calculate the error rate  for a subset  of training  set."
   ]
  },
  {
   "cell_type": "code",
   "execution_count": 66,
   "metadata": {},
   "outputs": [],
   "source": [
    "from sklearn.model_selection import cross_val_score\n",
    "# creating odd list of K for KNN\n",
    "number = list(range(2, 100,1))\n",
    "\n",
    "# empty list that will hold cv scores\n",
    "cv_score = []\n",
    "\n",
    "# perform 10-fold cross validation\n",
    "for n in number:\n",
    "    knc = KNeighborsClassifier(n_neighbors=n)\n",
    "    score = cross_val_score(knc, x_train, y_train, cv=10, scoring='accuracy')\n",
    "    cv_score.append(score.mean())"
   ]
  },
  {
   "cell_type": "code",
   "execution_count": 67,
   "metadata": {},
   "outputs": [
    {
     "name": "stdout",
     "output_type": "stream",
     "text": [
      "The optimal number of neighbors is 3\n"
     ]
    },
    {
     "data": {
      "image/png": "[encoded data removed]",
      "text/plain": [
       "<Figure size 432x288 with 1 Axes>"
      ]
     },
     "metadata": {
      "needs_background": "light"
     },
     "output_type": "display_data"
    }
   ],
   "source": [
    "#changing to misclassification error\n",
    "error = [1 - x for x in cv_score]\n",
    "\n",
    "# determining best k\n",
    "opti = number[error.index(min(error))]\n",
    "print(\"The optimal number of neighbors is {}\".format(opti))\n",
    "\n",
    "# plot misclassification error vs k\n",
    "plt.plot(number, error)\n",
    "plt.xlabel(\"Number of K-Neighbors\")\n",
    "plt.ylabel(\"Misclassification Error\")\n",
    "plt.show()"
   ]
  },
  {
   "cell_type": "code",
   "execution_count": 68,
   "metadata": {},
   "outputs": [
    {
     "name": "stdout",
     "output_type": "stream",
     "text": [
      "Accuracy: 0.9691358024691358\n"
     ]
    }
   ],
   "source": [
    "from sklearn.neighbors import KNeighborsClassifier\n",
    "from sklearn.metrics import accuracy_score\n",
    "\n",
    "knc = KNeighborsClassifier(n_neighbors=3)\n",
    "\n",
    "# fitting the model\n",
    "knc.fit(x_train, y_train)\n",
    "\n",
    "# predict the response\n",
    "pred = knc.predict(x_test)\n",
    "\n",
    "from sklearn import metrics\n",
    "# Model Accuracy, how often is the classifier correct?\n",
    "print(\"Accuracy:\",metrics.accuracy_score(y_test, pred))"
   ]
  },
  {
   "cell_type": "code",
   "execution_count": 69,
   "metadata": {},
   "outputs": [
    {
     "name": "stdout",
     "output_type": "stream",
     "text": [
      "[[48  2  0  0  0  0  0  0]\n",
      " [ 3 40  0  0  1  0  0  0]\n",
      " [ 0  0 36  0  0  0  0  0]\n",
      " [ 0  0  0 44  0  0  0  1]\n",
      " [ 1  0  0  0 37  2  0  0]\n",
      " [ 0  0  0  0  0 25  0  0]\n",
      " [ 0  0  0  0  0  0 41  0]\n",
      " [ 0  0  0  0  0  0  0 43]]\n",
      "              precision    recall  f1-score   support\n",
      "\n",
      "           0       0.92      0.96      0.94        50\n",
      "           1       0.95      0.91      0.93        44\n",
      "           2       1.00      1.00      1.00        36\n",
      "           3       1.00      0.98      0.99        45\n",
      "           4       0.97      0.93      0.95        40\n",
      "           5       0.93      1.00      0.96        25\n",
      "           6       1.00      1.00      1.00        41\n",
      "           7       0.98      1.00      0.99        43\n",
      "\n",
      "    accuracy                           0.97       324\n",
      "   macro avg       0.97      0.97      0.97       324\n",
      "weighted avg       0.97      0.97      0.97       324\n",
      "\n"
     ]
    }
   ],
   "source": [
    "from sklearn.metrics import classification_report, confusion_matrix\n",
    "print(confusion_matrix(y_test, pred))\n",
    "print (classification_report(y_test, pred))"
   ]
  },
  {
   "cell_type": "code",
   "execution_count": 70,
   "metadata": {
    "scrolled": true
   },
   "outputs": [
    {
     "data": {
      "image/png": "[encoded data removed]",
      "text/plain": [
       "<Figure size 432x288 with 2 Axes>"
      ]
     },
     "metadata": {
      "needs_background": "light"
     },
     "output_type": "display_data"
    }
   ],
   "source": [
    "from sklearn.metrics import plot_confusion_matrix\n",
    "\n",
    "plot_confusion_matrix(knc, x_test, y_test) \n",
    "plt.show()"
   ]
  },
  {
   "cell_type": "markdown",
   "metadata": {},
   "source": [
    "There is an increase in the accurancy score after tuning the KNN. From 94%, the accurancy score is increased to 97% after the tuning. Hence, it is always vital to find the optimal number of neighbors to get high accurancy score. "
   ]
  },
  {
   "cell_type": "markdown",
   "metadata": {},
   "source": [
    "### Decision Tree <a name=\"d42\"></a>"
   ]
  },
  {
   "cell_type": "code",
   "execution_count": 71,
   "metadata": {},
   "outputs": [
    {
     "name": "stdout",
     "output_type": "stream",
     "text": [
      "Accuracy: 0.8179012345679012\n"
     ]
    }
   ],
   "source": [
    "from sklearn.tree import DecisionTreeClassifier\n",
    "# Create Decision Tree classifer object\n",
    "gs_DT = DecisionTreeClassifier()\n",
    "\n",
    "# Train Decision Tree Classifer\n",
    "gs_DT = gs_DT.fit(x_train,y_train)\n",
    "\n",
    "#Predict the response for test dataset\n",
    "y_pred = gs_DT.predict(x_test)\n",
    "\n",
    "# Model Accuracy, how often is the classifier correct?\n",
    "print(\"Accuracy:\",metrics.accuracy_score(y_test, y_pred))"
   ]
  },
  {
   "cell_type": "code",
   "execution_count": 72,
   "metadata": {},
   "outputs": [
    {
     "name": "stdout",
     "output_type": "stream",
     "text": [
      "[[41  4  0  0  1  3  1  0]\n",
      " [ 8 32  0  1  2  1  0  0]\n",
      " [ 1  0 32  0  0  0  3  0]\n",
      " [ 0  0  1 41  0  0  3  0]\n",
      " [ 7  7  0  0 24  2  0  0]\n",
      " [ 4  1  0  0  2 18  0  0]\n",
      " [ 0  0  2  3  0  0 36  0]\n",
      " [ 0  0  2  0  0  0  0 41]]\n",
      "              precision    recall  f1-score   support\n",
      "\n",
      "           0       0.67      0.82      0.74        50\n",
      "           1       0.73      0.73      0.73        44\n",
      "           2       0.86      0.89      0.88        36\n",
      "           3       0.91      0.91      0.91        45\n",
      "           4       0.83      0.60      0.70        40\n",
      "           5       0.75      0.72      0.73        25\n",
      "           6       0.84      0.88      0.86        41\n",
      "           7       1.00      0.95      0.98        43\n",
      "\n",
      "    accuracy                           0.82       324\n",
      "   macro avg       0.82      0.81      0.81       324\n",
      "weighted avg       0.82      0.82      0.82       324\n",
      "\n"
     ]
    }
   ],
   "source": [
    "from sklearn.metrics import classification_report, confusion_matrix\n",
    "print(confusion_matrix(y_test, y_pred))\n",
    "print (classification_report(y_test, y_pred))"
   ]
  },
  {
   "cell_type": "markdown",
   "metadata": {},
   "source": [
    "#### Decision Tree tuning<a name=\"d422\"></a>"
   ]
  },
  {
   "cell_type": "code",
   "execution_count": 73,
   "metadata": {},
   "outputs": [],
   "source": [
    "from sklearn.model_selection import StratifiedKFold, GridSearchCV\n",
    "\n",
    "cv_method = StratifiedKFold(n_splits=5, random_state=999)"
   ]
  },
  {
   "cell_type": "code",
   "execution_count": 74,
   "metadata": {},
   "outputs": [
    {
     "name": "stdout",
     "output_type": "stream",
     "text": [
      "Fitting 5 folds for each of 24 candidates, totalling 120 fits\n"
     ]
    },
    {
     "name": "stderr",
     "output_type": "stream",
     "text": [
      "[Parallel(n_jobs=1)]: Using backend SequentialBackend with 1 concurrent workers.\n"
     ]
    },
    {
     "name": "stdout",
     "output_type": "stream",
     "text": [
      "Best parameter {'criterion': 'entropy', 'max_depth': 20, 'min_samples_split': 2}\n",
      "Best score 0.8379867549668875\n"
     ]
    },
    {
     "name": "stderr",
     "output_type": "stream",
     "text": [
      "[Parallel(n_jobs=1)]: Done 120 out of 120 | elapsed:    0.8s finished\n"
     ]
    }
   ],
   "source": [
    "from sklearn.tree import DecisionTreeClassifier\n",
    "\n",
    "df_classifier = DecisionTreeClassifier()\n",
    "\n",
    "params_DT = {'criterion': ['gini', 'entropy'],\n",
    "             'max_depth': [5,6,7,10,15,20],\n",
    "             'min_samples_split': [2,5]}\n",
    "\n",
    "gs_DT2 = GridSearchCV(df_classifier, \n",
    "                     params_DT, \n",
    "                     cv=cv_method,\n",
    "                     verbose=1, \n",
    "                     scoring='accuracy')\n",
    "\n",
    "gs_DT2.fit(x_train, y_train);\n",
    "print(\"Best parameter\",gs_DT2.best_params_)\n",
    "print(\"Best score\",gs_DT2.best_score_)"
   ]
  },
  {
   "cell_type": "code",
   "execution_count": 75,
   "metadata": {
    "scrolled": true
   },
   "outputs": [
    {
     "data": {
      "text/plain": [
       "DecisionTreeClassifier(ccp_alpha=0.0, class_weight=None, criterion='entropy',\n",
       "                       max_depth=20, max_features=None, max_leaf_nodes=None,\n",
       "                       min_impurity_decrease=0.0, min_impurity_split=None,\n",
       "                       min_samples_leaf=1, min_samples_split=2,\n",
       "                       min_weight_fraction_leaf=0.0, presort='deprecated',\n",
       "                       random_state=None, splitter='best')"
      ]
     },
     "execution_count": 75,
     "metadata": {},
     "output_type": "execute_result"
    }
   ],
   "source": [
    "model=gs_DT2.best_estimator_\n",
    "model"
   ]
  },
  {
   "cell_type": "code",
   "execution_count": 76,
   "metadata": {},
   "outputs": [
    {
     "name": "stdout",
     "output_type": "stream",
     "text": [
      "Accuracy after tuning:  0.8271604938271605\n"
     ]
    }
   ],
   "source": [
    "gs_pred = model.predict(x_test)\n",
    "gs_accuracy= accuracy_score(y_test, gs_pred)\n",
    "print('Accuracy after tuning: ',gs_accuracy)"
   ]
  },
  {
   "cell_type": "code",
   "execution_count": 77,
   "metadata": {},
   "outputs": [
    {
     "data": {
      "text/plain": [
       "0.8271604938271605"
      ]
     },
     "execution_count": 77,
     "metadata": {},
     "output_type": "execute_result"
    }
   ],
   "source": [
    "from sklearn.tree import DecisionTreeClassifier\n",
    "\n",
    "dt_classifier = DecisionTreeClassifier(criterion='entropy', max_depth=10)\n",
    "fit=dt_classifier.fit(x_train, y_train)\n",
    "y_pre = fit.predict(x_test)\n",
    "dt_classifier.score(x_test, y_test)\n"
   ]
  },
  {
   "cell_type": "code",
   "execution_count": 78,
   "metadata": {},
   "outputs": [
    {
     "name": "stdout",
     "output_type": "stream",
     "text": [
      "[[41  2  0  0  4  3  0  0]\n",
      " [ 7 31  0  0  1  2  0  3]\n",
      " [ 0  2 34  0  0  0  0  0]\n",
      " [ 0  0  3 42  0  0  0  0]\n",
      " [ 3  6  0  0 26  4  0  1]\n",
      " [ 1  1  0  0  1 22  0  0]\n",
      " [ 0  0  6  3  0  0 32  0]\n",
      " [ 0  0  1  0  0  0  2 40]]\n",
      "              precision    recall  f1-score   support\n",
      "\n",
      "           0       0.79      0.82      0.80        50\n",
      "           1       0.74      0.70      0.72        44\n",
      "           2       0.77      0.94      0.85        36\n",
      "           3       0.93      0.93      0.93        45\n",
      "           4       0.81      0.65      0.72        40\n",
      "           5       0.71      0.88      0.79        25\n",
      "           6       0.94      0.78      0.85        41\n",
      "           7       0.91      0.93      0.92        43\n",
      "\n",
      "    accuracy                           0.83       324\n",
      "   macro avg       0.83      0.83      0.82       324\n",
      "weighted avg       0.83      0.83      0.83       324\n",
      "\n"
     ]
    }
   ],
   "source": [
    "print(confusion_matrix(y_test, gs_pred))\n",
    "print(classification_report(y_test, gs_pred))"
   ]
  },
  {
   "cell_type": "markdown",
   "metadata": {},
   "source": [
    "There is a little raise in the accuracy score after tuning the Decision Tree. From 82%, the accuracy score is increased to 83% after the tuning. Hence, it is always vital to find the optimal value to get high accuracy score in order to control the overall behaviour of the algorithm. "
   ]
  },
  {
   "cell_type": "markdown",
   "metadata": {},
   "source": [
    "## Performance comparison  <a name=\"d5\"></a>"
   ]
  },
  {
   "cell_type": "code",
   "execution_count": 79,
   "metadata": {},
   "outputs": [
    {
     "data": {
      "text/plain": [
       "0.9136363636363637"
      ]
     },
     "execution_count": 79,
     "metadata": {},
     "output_type": "execute_result"
    }
   ],
   "source": [
    "#scoring for KNN\n",
    "from sklearn.model_selection import cross_val_score\n",
    "from sklearn.model_selection import StratifiedKFold\n",
    "\n",
    "cv_method_ttest = StratifiedKFold(n_splits=10, random_state=111)\n",
    "scores_knn = cross_val_score(knc, x_test, y_test, cv=cv_method_ttest,  \n",
    "                             n_jobs=-2,scoring='accuracy')\n",
    "scores_knn.mean()"
   ]
  },
  {
   "cell_type": "code",
   "execution_count": 80,
   "metadata": {},
   "outputs": [
    {
     "data": {
      "text/plain": [
       "0.759185606060606"
      ]
     },
     "execution_count": 80,
     "metadata": {},
     "output_type": "execute_result"
    }
   ],
   "source": [
    "##scoring for Decision Tree\n",
    "cv_results_DT = cross_val_score(estimator=gs_DT2.best_estimator_,\n",
    "                                X=x_test,\n",
    "                                y=y_test, \n",
    "                                cv=cv_method_ttest, \n",
    "                                n_jobs=-2,\n",
    "                                scoring='accuracy')\n",
    "cv_results_DT.mean()"
   ]
  },
  {
   "cell_type": "markdown",
   "metadata": {},
   "source": [
    "Paired t-test is performed to determine whether the models are having statistically significant difference. "
   ]
  },
  {
   "cell_type": "code",
   "execution_count": 81,
   "metadata": {},
   "outputs": [
    {
     "name": "stdout",
     "output_type": "stream",
     "text": [
      "Ttest_relResult(statistic=7.057080230752245, pvalue=5.939603759696747e-05)\n"
     ]
    }
   ],
   "source": [
    "from scipy import stats\n",
    "\n",
    "print(stats.ttest_rel(scores_knn, cv_results_DT))\n"
   ]
  },
  {
   "cell_type": "markdown",
   "metadata": {},
   "source": [
    "A p value lesser than 0.05 denotes that there is a significant difference between this two models. The output shows that, at a 95% significance level, KNN is statistically the best model in terms of 'Accuracy' in contrast to the test data."
   ]
  },
  {
   "cell_type": "markdown",
   "metadata": {},
   "source": [
    "The following metrics are considered to evaluate models based on the test set:\n",
    "- Accuracy\n",
    "- Precision\n",
    "- Recall\n",
    "- F1 Score \n",
    "- Confusion Matrix"
   ]
  },
  {
   "cell_type": "code",
   "execution_count": 82,
   "metadata": {},
   "outputs": [
    {
     "name": "stdout",
     "output_type": "stream",
     "text": [
      "\n",
      "Classification report for K-Nearest Neighbor\n",
      "              precision    recall  f1-score   support\n",
      "\n",
      "           0       0.92      0.96      0.94        50\n",
      "           1       0.95      0.91      0.93        44\n",
      "           2       1.00      1.00      1.00        36\n",
      "           3       1.00      0.98      0.99        45\n",
      "           4       0.97      0.93      0.95        40\n",
      "           5       0.93      1.00      0.96        25\n",
      "           6       1.00      1.00      1.00        41\n",
      "           7       0.98      1.00      0.99        43\n",
      "\n",
      "    accuracy                           0.97       324\n",
      "   macro avg       0.97      0.97      0.97       324\n",
      "weighted avg       0.97      0.97      0.97       324\n",
      "\n",
      "\n",
      "Classification report for Decision tree\n",
      "              precision    recall  f1-score   support\n",
      "\n",
      "           0       0.79      0.82      0.80        50\n",
      "           1       0.74      0.70      0.72        44\n",
      "           2       0.77      0.94      0.85        36\n",
      "           3       0.93      0.93      0.93        45\n",
      "           4       0.81      0.65      0.72        40\n",
      "           5       0.71      0.88      0.79        25\n",
      "           6       0.94      0.78      0.85        41\n",
      "           7       0.91      0.93      0.92        43\n",
      "\n",
      "    accuracy                           0.83       324\n",
      "   macro avg       0.83      0.83      0.82       324\n",
      "weighted avg       0.83      0.83      0.83       324\n",
      "\n"
     ]
    }
   ],
   "source": [
    "print(\"\\nClassification report for K-Nearest Neighbor\") \n",
    "print (classification_report(y_test, pred))\n",
    "\n",
    "print(\"\\nClassification report for Decision tree\") \n",
    "print(classification_report(y_test, gs_pred))"
   ]
  },
  {
   "cell_type": "code",
   "execution_count": 83,
   "metadata": {},
   "outputs": [
    {
     "name": "stdout",
     "output_type": "stream",
     "text": [
      "\n",
      "Confusion matrix for K-Nearest Neighbor\n",
      "[[48  2  0  0  0  0  0  0]\n",
      " [ 3 40  0  0  1  0  0  0]\n",
      " [ 0  0 36  0  0  0  0  0]\n",
      " [ 0  0  0 44  0  0  0  1]\n",
      " [ 1  0  0  0 37  2  0  0]\n",
      " [ 0  0  0  0  0 25  0  0]\n",
      " [ 0  0  0  0  0  0 41  0]\n",
      " [ 0  0  0  0  0  0  0 43]]\n",
      "\n",
      "Confusion matrix for Decision Tree\n",
      "[[41  2  0  0  4  3  0  0]\n",
      " [ 7 31  0  0  1  2  0  3]\n",
      " [ 0  2 34  0  0  0  0  0]\n",
      " [ 0  0  3 42  0  0  0  0]\n",
      " [ 3  6  0  0 26  4  0  1]\n",
      " [ 1  1  0  0  1 22  0  0]\n",
      " [ 0  0  6  3  0  0 32  0]\n",
      " [ 0  0  1  0  0  0  2 40]]\n"
     ]
    }
   ],
   "source": [
    "print(\"\\nConfusion matrix for K-Nearest Neighbor\") \n",
    "print(metrics.confusion_matrix(y_test, pred))\n",
    "print(\"\\nConfusion matrix for Decision Tree\") \n",
    "print(metrics.confusion_matrix(y_test, gs_pred))"
   ]
  },
  {
   "cell_type": "markdown",
   "metadata": {},
   "source": [
    "Since in this project we are analyzing the influence of proteins,recall is chosen as the performance metric which is also known as the true positive rate(TPR). In this context, KNN would is the best performer since it produces the highest recall score for mice class.The confusion matrices are in accordance with the classification reports. This is also supporting our finding that KNN is measurably the best performer with regards to the accuracy metric."
   ]
  },
  {
   "cell_type": "markdown",
   "metadata": {},
   "source": [
    "# Limitations and Solutions <a name=\"e\"></a>\n",
    "The modelling strategy has some limitations: <br>\n",
    "\n",
    "Firstly, only 15 features selected for the modelling. The number of features in the feature selection can be increased. The dataset is also small with only 753 rows for the training. More potential data can be gathered in future in order to optimize the classifier even more. \n",
    "\n",
    "Another limitation is the decision tree can be very unstable. It is because of the small variation in the dataset. In classification model, if some dominate classes are present , it will create biased trees.Therefore, increasing the depth is crucial to get optimal result. "
   ]
  },
  {
   "cell_type": "markdown",
   "metadata": {},
   "source": [
    "# Summary and Conclusion <a name=\"f\"></a>\n",
    "KNN model with 15 best features chosen by Random Forest Importance (RFI) produces the highest accuracy score on the training data. Moreover, KNN outperforms Decision Tree during the evaluation on the test data. Furthermore, KNN model shows the highest recall score on the test data. From the observation we can say that our model is not sensitive to the number of the features. Since it can able to work with 15 features perferable to work with the full features. Overall, we achieved the best performance for the task of analyzing the influence of proteins that impact the recuperating ability of the Down Syndrome mice to learn with the accuracy score of 97% on the Mice Protein Expression Data Set using our proposed ensemble. "
   ]
  }
 ],
 "metadata": {
  "kernelspec": {
   "display_name": "Python 3",
   "language": "python",
   "name": "python3"
  },
  "language_info": {
   "codemirror_mode": {
    "name": "ipython",
    "version": 3
   },
   "file_extension": ".py",
   "mimetype": "text/x-python",
   "name": "python",
   "nbconvert_exporter": "python",
   "pygments_lexer": "ipython3",
   "version": "3.7.6"
  }
 },
 "nbformat": 4,
 "nbformat_minor": 4
}
